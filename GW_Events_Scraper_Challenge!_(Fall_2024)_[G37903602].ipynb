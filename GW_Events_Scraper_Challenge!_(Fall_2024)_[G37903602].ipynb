{
  "nbformat": 4,
  "nbformat_minor": 0,
  "metadata": {
    "colab": {
      "provenance": [],
      "include_colab_link": true
    },
    "kernelspec": {
      "name": "python3",
      "display_name": "Python 3"
    },
    "language_info": {
      "name": "python"
    }
  },
  "cells": [
    {
      "cell_type": "markdown",
      "metadata": {
        "id": "view-in-github",
        "colab_type": "text"
      },
      "source": [
        "<a href=\"https://colab.research.google.com/github/Shambhaviadhikari/PythonClass/blob/main/GW_Events_Scraper_Challenge!_(Fall_2024)_%5BG37903602%5D.ipynb\" target=\"_parent\"><img src=\"https://colab.research.google.com/assets/colab-badge.svg\" alt=\"Open In Colab\"/></a>"
      ]
    },
    {
      "cell_type": "markdown",
      "source": [
        "# 📅 GWU Events Scraper Challenge 📅\n"
      ],
      "metadata": {
        "id": "5SHsyfC6rWwq"
      }
    },
    {
      "cell_type": "markdown",
      "source": [
        "## Instructions"
      ],
      "metadata": {
        "id": "BKNvzX2IX_hC"
      }
    },
    {
      "cell_type": "markdown",
      "source": [
        "For this exercise, we will scrape events from the [GW events calendar](https://calendar.gwu.edu/calendar) website.\n",
        "\n",
        "\n",
        "It may be helpful to take a few minutes to inspect the website to learn more, and make a plan, before developing a solution.\n",
        "\n",
        "Feel free to use the \"Scratch Work\" section at the bottom (which will not be evaluated). Then when you are satisfied, return to implement your final code in the \"Solution\" section."
      ],
      "metadata": {
        "id": "LHSfmXqVbOXP"
      }
    },
    {
      "cell_type": "markdown",
      "source": [
        "## Evaluation"
      ],
      "metadata": {
        "id": "QXKJH0xCr_1l"
      }
    },
    {
      "cell_type": "markdown",
      "source": [
        "Rubric (tentative):\n",
        "\n",
        "Part | Question | Weight\n",
        "--- | --- | ---\n",
        "Part I | Question 1 (Fetch Events) | 10%\n",
        "Part I | Question 2 (Display Events) | 35%\n",
        "Part I | Question 3 (Collect Events) | 10%\n",
        "Part I | Questions 4 and 5 (Save Events) | 10%\n",
        "Part II | Question 6 (Custom Function) | 20%\n",
        "Part II | Question 7 (Tests) | 15%\n",
        "\n"
      ],
      "metadata": {
        "id": "z-vODM94sJK1"
      }
    },
    {
      "cell_type": "markdown",
      "source": [
        "## Part I"
      ],
      "metadata": {
        "id": "yw1Vm-GPeCrq"
      }
    },
    {
      "cell_type": "markdown",
      "source": [
        "### Fetch Events\n"
      ],
      "metadata": {
        "id": "2v_uElr0iGNl"
      }
    },
    {
      "cell_type": "markdown",
      "source": [
        "\n",
        "1) Request the **HTML** page contents of https://calendar.gwu.edu/calendar and create a `BeautifulSoup` object with the resulting page contents."
      ],
      "metadata": {
        "id": "ihYvjsRDiXaL"
      }
    },
    {
      "cell_type": "code",
      "source": [
        "\n",
        "\n",
        "EVENTS_PAGE_URL = \"https://calendar.gwu.edu/calendar\"\n",
        "\n",
        "\n",
        "\n"
      ],
      "metadata": {
        "id": "PVaFL1kg-1I9"
      },
      "execution_count": null,
      "outputs": []
    },
    {
      "cell_type": "code",
      "source": [
        "import requests\n",
        "from bs4 import BeautifulSoup\n",
        "\n",
        "# URL of the events page\n",
        "EVENTS_PAGE_URL = \"https://calendar.gwu.edu/calendar\"\n",
        "\n",
        "# Request the HTML page content\n",
        "response = requests.get(EVENTS_PAGE_URL)\n",
        "\n",
        "# Create a BeautifulSoup object with the page contents\n",
        "soup = BeautifulSoup(response.content, 'html.parser')\n",
        "\n",
        "# Optional: Print the title of the page to verify\n",
        "print(soup.title.text)\n"
      ],
      "metadata": {
        "id": "XxWONxNpeduj",
        "colab": {
          "base_uri": "https://localhost:8080/"
        },
        "outputId": "b57c0bd2-b5eb-4cab-eac8-e785e04de866"
      },
      "execution_count": null,
      "outputs": [
        {
          "output_type": "stream",
          "name": "stdout",
          "text": [
            "  Events  on October 17, 2024 - April 16, 2025 - GW Calendar\n"
          ]
        }
      ]
    },
    {
      "cell_type": "markdown",
      "source": [
        "### Display and Collect Events"
      ],
      "metadata": {
        "id": "DBZnj--YiY3u"
      }
    },
    {
      "cell_type": "markdown",
      "source": [
        "\n",
        "\n",
        "2-A) Parse the page and loop through the events and **display** some information about each, including:\n",
        "  + **Title** (e.g. \"Annie Artist Gallery Opening\")\n",
        "  + **Date info** including date, day of week, start, and end times (e.g. \"Mon, Oct 2, 2023 11am to 3pm\" or \"Mon, Oct 2, 2023\", depending on whether or not the start and end times are present - some events don't have start and end)\n",
        "  + **Location** (e.g. \"Smith Hall of Art, Gallery 102\")\n",
        "  + **Image** displayed\n",
        "  + **Primary event type** / first tag (e.g. \"Arts and Culture\")\n",
        "\n",
        "2-B) Revisit 2-A, and see if you can further **decompose the date info** into multiple separate fields:\n",
        "  + **Date** (e.g. \"2023-09-08\")\n",
        "  + **Day of week** (e.g. \"Friday\")\n",
        "  + **Start time**, as applicable (e.g. \"12:30pm\" or None)\n",
        "  + **End time**, as applicable (e.g. \"01:30pm\" or None)\n",
        "\n",
        "3) Ensure your loop from Question 2 also **collects** the events as a list of dictionaries called `events`.\n"
      ],
      "metadata": {
        "id": "tk0yuflq_Con"
      }
    },
    {
      "cell_type": "code",
      "source": [],
      "metadata": {
        "id": "2tORJj3zgMoF"
      },
      "execution_count": null,
      "outputs": []
    },
    {
      "cell_type": "code",
      "source": [
        "import requests\n",
        "from bs4 import BeautifulSoup\n",
        "from IPython.display import display, Image\n",
        "import re\n",
        "import datetime\n"
      ],
      "metadata": {
        "id": "LYOKsrsFifwZ"
      },
      "execution_count": null,
      "outputs": []
    },
    {
      "cell_type": "code",
      "source": [
        "\n",
        "# List to hold all events\n",
        "events = []\n",
        "\n",
        "# Loop through event containers\n",
        "for event in soup.find_all(class_=\"em-card\"):\n",
        "    # Extract event title\n",
        "    title_tag = event.find(class_=\"em-card_title\")\n",
        "    title = title_tag.text.strip() if title_tag else None\n",
        "\n",
        "    # Extract date and time information\n",
        "    date_info_tag = event.find_all(class_=\"em-card_event-text\")\n",
        "    if date_info_tag:\n",
        "        # Assuming the first <p> contains date and time info\n",
        "        date_info = date_info_tag[0].text.strip() if date_info_tag else None\n",
        "        location_tag = date_info_tag[1].find('a') if len(date_info_tag) > 1 else None\n",
        "        location = location_tag.text.strip() if location_tag else None\n",
        "\n",
        "        # Initialize event_info dictionary\n",
        "        event_info = {\n",
        "            'title': title,\n",
        "            'date_info': date_info,\n",
        "            'location': location,\n",
        "            'image_url': None,\n",
        "            'event_type': None,\n",
        "            'date': None,\n",
        "            'day_of_week': None,\n",
        "            'start_time': None,\n",
        "            'end_time': None\n",
        "        }\n",
        "\n",
        "        # Parse date info using regex\n",
        "        if event_info['date_info']:\n",
        "            date_match = re.match(\n",
        "                r'(\\w+), (\\w+ \\d+, \\d{4})(?: (\\d+(?::\\d+)?[ap]m)(?: to (\\d+(?::\\d+)?[ap]m))?)?',\n",
        "                event_info['date_info']\n",
        "            )\n",
        "            if date_match:\n",
        "                original_date_str = date_match.group(2)\n",
        "                # Convert the date to \"YYYY-MM-DD\" format\n",
        "                try:\n",
        "                    parsed_date = datetime.datetime.strptime(original_date_str, \"%B %d, %Y\")\n",
        "                    formatted_date = parsed_date.strftime(\"%Y-%m-%d\")\n",
        "                    event_info['date'] = formatted_date\n",
        "                except ValueError:\n",
        "                    event_info['date'] = \"Invalid date format\"\n",
        "                event_info['day_of_week'] = date_match.group(1)\n",
        "                event_info['start_time'] = date_match.group(3)\n",
        "                event_info['end_time'] = date_match.group(4)\n",
        "\n",
        "    else:\n",
        "        event_info['day_of_week'] = None\n",
        "        event_info['date'] = None\n",
        "        event_info['start_time'] = None\n",
        "        event_info['end_time'] = None\n",
        "        event_info['location'] = None\n",
        "\n",
        "    # Extract image URL from the <div class=\"em-card_image\">\n",
        "    image_div = event.find(class_=\"em-card_image\")\n",
        "\n",
        "    if image_div:\n",
        "        # Check for img tag directly\n",
        "        image_tag = image_div.find(\"img\")\n",
        "        if image_tag:\n",
        "            event_info['image_url'] = image_tag.get('src')  # Get src for the image URL\n",
        "\n",
        "            # Optionally handle srcset for high-resolution images\n",
        "            srcset = image_tag.get('srcset')\n",
        "            if srcset:\n",
        "                # Split srcset to get 2x resolution image URL if needed\n",
        "                srcset_parts = srcset.split(',')\n",
        "                if srcset_parts:\n",
        "                    # Use the last entry (1x resolution)\n",
        "                    event_info['image_url'] = srcset_parts[-1].split(' ')[0].strip()\n",
        "\n",
        "    # Extract event type / first tag\n",
        "    event_type_tag = event.find(class_=\"em-list_tags\")\n",
        "    event_info['event_type'] = event_type_tag.text.strip() if event_type_tag else None\n",
        "\n",
        "    # Add the extracted event info to the list\n",
        "    events.append(event_info)\n",
        "\n",
        "    # Display event details\n",
        "    print(f\"Title: {event_info['title']}\")\n",
        "    print(f\"Day: {event_info['day_of_week']}\")\n",
        "    print(f\"Date: {event_info['date']}\")\n",
        "    print(f\"Start Time: {event_info['start_time']}\")\n",
        "    print(f\"End Time: {event_info['end_time']}\")\n",
        "    print(f\"Location: {event_info['location']}\")\n",
        "    print(f\"Event Type: {event_info['event_type']}\")\n",
        "\n",
        "    # Display the image (if available)\n",
        "    if event_info['image_url']:\n",
        "        print(f\"Image URL: {event_info['image_url']}\")\n",
        "        display(Image(url=event_info['image_url']))\n",
        "\n",
        "    print(\"-\" * 40)\n"
      ],
      "metadata": {
        "colab": {
          "base_uri": "https://localhost:8080/",
          "height": 1000
        },
        "id": "6eOVkyU5gI7Y",
        "outputId": "7ed6d677-3853-4932-ef07-167d4ecf8474"
      },
      "execution_count": null,
      "outputs": [
        {
          "output_type": "stream",
          "name": "stdout",
          "text": [
            "Title: Sunrise at the Mall\n",
            "Day: Thu\n",
            "Date: Invalid date format\n",
            "Start Time: 6:45am\n",
            "End Time: 8:30am\n",
            "Location: Amsterdam Hall\n",
            "Event Type: Student Life\n",
            "----------------------------------------\n",
            "Title: Cyberfuture Summit\n",
            "Day: Thu\n",
            "Date: Invalid date format\n",
            "Start Time: 8am\n",
            "End Time: 4pm\n",
            "Location: Amentum\n",
            "Event Type: Conference\n",
            "----------------------------------------\n",
            "Title: Envisioning India: Why is India Growing Fast But Not Creating Enough Jobs?\n",
            "Day: Thu\n",
            "Date: Invalid date format\n",
            "Start Time: 9am\n",
            "End Time: 10:30am\n",
            "Location: Elliott School of International Affairs, Sigur Center Conference Room\n",
            "Event Type: Academic\n",
            "Image URL: https://localist-images.azureedge.net/photos/47658083121797/card/be36564e0c0ea74b36f1f2188880333052276a65.jpg\n"
          ]
        },
        {
          "output_type": "display_data",
          "data": {
            "text/html": [
              "<img src=\"https://localist-images.azureedge.net/photos/47658083121797/card/be36564e0c0ea74b36f1f2188880333052276a65.jpg\"/>"
            ],
            "text/plain": [
              "<IPython.core.display.Image object>"
            ]
          },
          "metadata": {}
        },
        {
          "output_type": "stream",
          "name": "stdout",
          "text": [
            "----------------------------------------\n",
            "Title: Getting Started with Tableau\n",
            "Day: Thu\n",
            "Date: Invalid date format\n",
            "Start Time: 9:30am\n",
            "End Time: 11:30am\n",
            "Location: Gelman Library\n",
            "Event Type: None\n",
            "Image URL: https://localist-images.azureedge.net/photos/45434560016329/card/da5fe9c85becaddb916d26eefd52a19758fa7a24.jpg\n"
          ]
        },
        {
          "output_type": "display_data",
          "data": {
            "text/html": [
              "<img src=\"https://localist-images.azureedge.net/photos/45434560016329/card/da5fe9c85becaddb916d26eefd52a19758fa7a24.jpg\"/>"
            ],
            "text/plain": [
              "<IPython.core.display.Image object>"
            ]
          },
          "metadata": {}
        },
        {
          "output_type": "stream",
          "name": "stdout",
          "text": [
            "----------------------------------------\n",
            "Title: 2025 OE: Legal Wellness Seminar\n",
            "Day: Thu\n",
            "Date: Invalid date format\n",
            "Start Time: 10am\n",
            "End Time: 11am\n",
            "Location: None\n",
            "Event Type: Health & Wellness\n",
            "----------------------------------------\n",
            "Title: A Tale of Two Houses\n",
            "Day: Thu\n",
            "Date: Invalid date format\n",
            "Start Time: 10am\n",
            "End Time: 5pm\n",
            "Location: The George Washington Museum and the Textile Museum\n",
            "Event Type: Arts & Culture\n",
            "Image URL: https://localist-images.azureedge.net/photos/47614343595670/card/318ae59ea438d46aa711fcb55172e093d256921a.jpg\n"
          ]
        },
        {
          "output_type": "display_data",
          "data": {
            "text/html": [
              "<img src=\"https://localist-images.azureedge.net/photos/47614343595670/card/318ae59ea438d46aa711fcb55172e093d256921a.jpg\"/>"
            ],
            "text/plain": [
              "<IPython.core.display.Image object>"
            ]
          },
          "metadata": {}
        },
        {
          "output_type": "stream",
          "name": "stdout",
          "text": [
            "----------------------------------------\n",
            "Title: Irresistible: The Global Patterns of Ikat\n",
            "Day: Thu\n",
            "Date: Invalid date format\n",
            "Start Time: 10am\n",
            "End Time: 5pm\n",
            "Location: The George Washington Museum and the Textile Museum\n",
            "Event Type: Arts & Culture\n",
            "Image URL: https://localist-images.azureedge.net/photos/46703531502333/card/9f3494ee5d5e0690bf5d1702ca2c9f2331bc5b6d.jpg\n"
          ]
        },
        {
          "output_type": "display_data",
          "data": {
            "text/html": [
              "<img src=\"https://localist-images.azureedge.net/photos/46703531502333/card/9f3494ee5d5e0690bf5d1702ca2c9f2331bc5b6d.jpg\"/>"
            ],
            "text/plain": [
              "<IPython.core.display.Image object>"
            ]
          },
          "metadata": {}
        },
        {
          "output_type": "stream",
          "name": "stdout",
          "text": [
            "----------------------------------------\n",
            "Title: GW Dept. of Psychiatry - Grand Rounds\n",
            "Day: Thu\n",
            "Date: Invalid date format\n",
            "Start Time: 10:30am\n",
            "End Time: 12pm\n",
            "Location: None\n",
            "Event Type: \n",
            "Image URL: https://localist-images.azureedge.net/photos/47787952036812/card/a33a66809da43197ab52ce5058d7b3035b024005.jpg\n"
          ]
        },
        {
          "output_type": "display_data",
          "data": {
            "text/html": [
              "<img src=\"https://localist-images.azureedge.net/photos/47787952036812/card/a33a66809da43197ab52ce5058d7b3035b024005.jpg\"/>"
            ],
            "text/plain": [
              "<IPython.core.display.Image object>"
            ]
          },
          "metadata": {}
        },
        {
          "output_type": "stream",
          "name": "stdout",
          "text": [
            "----------------------------------------\n",
            "Title: RCR Seminar Series: \"Research Integrity Fireside Chat: Creating a Safe Research Environment\"\n",
            "Day: Thu\n",
            "Date: Invalid date format\n",
            "Start Time: 11am\n",
            "End Time: 12pm\n",
            "Location: University Student Center, 309\n",
            "Event Type: Research\n",
            "----------------------------------------\n",
            "Title: The CCAS Career Doctor Is In\n",
            "Day: Thu\n",
            "Date: Invalid date format\n",
            "Start Time: 11am\n",
            "End Time: 1pm\n",
            "Location: Philips Hall Front Desk, Philips Hall Lobby (next to elevators)\n",
            "Event Type: Career & Professional Development\n",
            "----------------------------------------\n",
            "Title: Title IX Tabling\n",
            "Day: Thu\n",
            "Date: Invalid date format\n",
            "Start Time: 11am\n",
            "End Time: 2pm\n",
            "Location: University Student Center, H Street Terrace\n",
            "Event Type: Info Session\n",
            "----------------------------------------\n",
            "Title: GW Coders' Lunch and Learn: Open Source Showcase: GW Courses App\n",
            "Day: Thu\n",
            "Date: Invalid date format\n",
            "Start Time: 11:30am\n",
            "End Time: 12:30pm\n",
            "Location: Science & Engineering Hall\n",
            "Event Type: \n",
            "Image URL: https://localist-images.azureedge.net/photos/47549200857996/card/35e5c31ff371b959d103f286612c8530ea694d2a.jpg\n"
          ]
        },
        {
          "output_type": "display_data",
          "data": {
            "text/html": [
              "<img src=\"https://localist-images.azureedge.net/photos/47549200857996/card/35e5c31ff371b959d103f286612c8530ea694d2a.jpg\"/>"
            ],
            "text/plain": [
              "<IPython.core.display.Image object>"
            ]
          },
          "metadata": {}
        },
        {
          "output_type": "stream",
          "name": "stdout",
          "text": [
            "----------------------------------------\n",
            "Title: A Cover Letter Is Like a Love Letter\n",
            "Day: Thu\n",
            "Date: Invalid date format\n",
            "Start Time: 12pm\n",
            "End Time: 1pm\n",
            "Location: None\n",
            "Event Type: Career & Professional Development\n",
            "----------------------------------------\n",
            "Title: Apple Day\n",
            "Day: Thu\n",
            "Date: Invalid date format\n",
            "Start Time: 12pm\n",
            "End Time: 2pm\n",
            "Location: Kogan Plaza, located in front of Gelman Library at 2130 H Street, NW, Washington, D.C., 20052\n",
            "Event Type: Arts & Culture\n",
            "----------------------------------------\n",
            "Title: Are They Getting It? Easy Ways to Gauge Understanding When Teaching\n",
            "Day: Thu\n",
            "Date: Invalid date format\n",
            "Start Time: 12pm\n",
            "End Time: 1pm\n",
            "Location: None\n",
            "Event Type: None\n",
            "Image URL: https://localist-images.azureedge.net/photos/46372013701272/card/4640411b0fe531cecc380b9cbe4d393cf8026a98.jpg\n"
          ]
        },
        {
          "output_type": "display_data",
          "data": {
            "text/html": [
              "<img src=\"https://localist-images.azureedge.net/photos/46372013701272/card/4640411b0fe531cecc380b9cbe4d393cf8026a98.jpg\"/>"
            ],
            "text/plain": [
              "<IPython.core.display.Image object>"
            ]
          },
          "metadata": {}
        },
        {
          "output_type": "stream",
          "name": "stdout",
          "text": [
            "----------------------------------------\n",
            "Title: Chimeric Whims\n",
            "Day: Thu\n",
            "Date: Invalid date format\n",
            "Start Time: 12pm\n",
            "End Time: 5pm\n",
            "Location: Smith Hall of Art (Academic Center), Gallery 102\n",
            "Event Type: Arts & Culture\n",
            "----------------------------------------\n",
            "Title: Create Video Stories with Premiere Rush\n",
            "Day: Thu\n",
            "Date: Invalid date format\n",
            "Start Time: 12pm\n",
            "End Time: 1pm\n",
            "Location: Gelman Library\n",
            "Event Type: None\n",
            "Image URL: https://localist-images.azureedge.net/photos/45434563570776/card/7de292b1700e6e35cf2d44d246c6820ac85934e4.jpg\n"
          ]
        },
        {
          "output_type": "display_data",
          "data": {
            "text/html": [
              "<img src=\"https://localist-images.azureedge.net/photos/45434563570776/card/7de292b1700e6e35cf2d44d246c6820ac85934e4.jpg\"/>"
            ],
            "text/plain": [
              "<IPython.core.display.Image object>"
            ]
          },
          "metadata": {}
        },
        {
          "output_type": "stream",
          "name": "stdout",
          "text": [
            "----------------------------------------\n",
            "Title: Federal Resume Writing: Presented by OPM\n",
            "Day: Thu\n",
            "Date: Invalid date format\n",
            "Start Time: 12pm\n",
            "End Time: 1pm\n",
            "Location: None\n",
            "Event Type: Career & Professional Development\n",
            "----------------------------------------\n",
            "Title: George Washington University Women's Tennis vs ITA Regional Championships\n",
            "Day: Thu\n",
            "Date: Invalid date format\n",
            "Start Time: 12pm\n",
            "End Time: 11:59pm\n",
            "Location: Charlottesville, VA\n",
            "Event Type: Athletics\n",
            "----------------------------------------\n",
            "Title: Pi Phi Pizookies\n",
            "Day: Thu\n",
            "Date: Invalid date format\n",
            "Start Time: 12pm\n",
            "End Time: 4pm\n",
            "Location: Strong Hall\n",
            "Event Type: Student Life\n",
            "----------------------------------------\n",
            "Title: Semester in Washington Program Online Information Session\n",
            "Day: Thu\n",
            "Date: Invalid date format\n",
            "Start Time: 12pm\n",
            "End Time: None\n",
            "Location: None\n",
            "Event Type: Info Session\n",
            "Image URL: https://localist-images.azureedge.net/photos/45871795516855/card/89cd57bd93520d8236efde50b547cee3288ef466.jpg\n"
          ]
        },
        {
          "output_type": "display_data",
          "data": {
            "text/html": [
              "<img src=\"https://localist-images.azureedge.net/photos/45871795516855/card/89cd57bd93520d8236efde50b547cee3288ef466.jpg\"/>"
            ],
            "text/plain": [
              "<IPython.core.display.Image object>"
            ]
          },
          "metadata": {}
        },
        {
          "output_type": "stream",
          "name": "stdout",
          "text": [
            "----------------------------------------\n"
          ]
        }
      ]
    },
    {
      "cell_type": "markdown",
      "source": [
        "### Save Events\n"
      ],
      "metadata": {
        "id": "oB0-87WMiNAN"
      }
    },
    {
      "cell_type": "markdown",
      "source": [
        "> NOTE: questions 4 and 5 are done for you 😸"
      ],
      "metadata": {
        "id": "HUuCzSMom9Xe"
      }
    },
    {
      "cell_type": "markdown",
      "source": [
        "\n",
        "\n",
        "4) Convert the entire list of `events` to a `pandas.DataFrame` object called `events_df`.\n",
        "\n",
        "5) Write the `events_df` contents to **CSV file** called \"events.csv\" in the colab filesystem. Optionally download the CSV file and import into speadsheet software."
      ],
      "metadata": {
        "id": "Jzgx12XsiL6N"
      }
    },
    {
      "cell_type": "code",
      "source": [
        "from pandas import DataFrame\n",
        "\n",
        "events_df = DataFrame(events)\n",
        "events_df.head()"
      ],
      "metadata": {
        "colab": {
          "base_uri": "https://localhost:8080/",
          "height": 379
        },
        "id": "uGkZOaXcH3lR",
        "outputId": "bc146a78-4b2e-4cd8-da3a-96a06538015c"
      },
      "execution_count": null,
      "outputs": [
        {
          "output_type": "execute_result",
          "data": {
            "text/plain": [
              "                                               title  \\\n",
              "0                                Sunrise at the Mall   \n",
              "1                                 Cyberfuture Summit   \n",
              "2  Envisioning India: Why is India Growing Fast B...   \n",
              "3                       Getting Started with Tableau   \n",
              "4                    2025 OE: Legal Wellness Seminar   \n",
              "\n",
              "                             date_info  \\\n",
              "0   Thu, Oct 17, 2024 6:45am to 8:30am   \n",
              "1         Thu, Oct 17, 2024 8am to 4pm   \n",
              "2     Thu, Oct 17, 2024 9am to 10:30am   \n",
              "3  Thu, Oct 17, 2024 9:30am to 11:30am   \n",
              "4       Thu, Oct 17, 2024 10am to 11am   \n",
              "\n",
              "                                            location  \\\n",
              "0                                     Amsterdam Hall   \n",
              "1                                            Amentum   \n",
              "2  Elliott School of International Affairs, Sigur...   \n",
              "3                                     Gelman Library   \n",
              "4                                               None   \n",
              "\n",
              "                                           image_url         event_type  \\\n",
              "0                                                          Student Life   \n",
              "1                                                            Conference   \n",
              "2  https://localist-images.azureedge.net/photos/4...           Academic   \n",
              "3  https://localist-images.azureedge.net/photos/4...               None   \n",
              "4                                                     Health & Wellness   \n",
              "\n",
              "                  date day_of_week start_time end_time  \n",
              "0  Invalid date format         Thu     6:45am   8:30am  \n",
              "1  Invalid date format         Thu        8am      4pm  \n",
              "2  Invalid date format         Thu        9am  10:30am  \n",
              "3  Invalid date format         Thu     9:30am  11:30am  \n",
              "4  Invalid date format         Thu       10am     11am  "
            ],
            "text/html": [
              "\n",
              "  <div id=\"df-350460fb-2b4a-4b4f-9426-3dc8567556b1\" class=\"colab-df-container\">\n",
              "    <div>\n",
              "<style scoped>\n",
              "    .dataframe tbody tr th:only-of-type {\n",
              "        vertical-align: middle;\n",
              "    }\n",
              "\n",
              "    .dataframe tbody tr th {\n",
              "        vertical-align: top;\n",
              "    }\n",
              "\n",
              "    .dataframe thead th {\n",
              "        text-align: right;\n",
              "    }\n",
              "</style>\n",
              "<table border=\"1\" class=\"dataframe\">\n",
              "  <thead>\n",
              "    <tr style=\"text-align: right;\">\n",
              "      <th></th>\n",
              "      <th>title</th>\n",
              "      <th>date_info</th>\n",
              "      <th>location</th>\n",
              "      <th>image_url</th>\n",
              "      <th>event_type</th>\n",
              "      <th>date</th>\n",
              "      <th>day_of_week</th>\n",
              "      <th>start_time</th>\n",
              "      <th>end_time</th>\n",
              "    </tr>\n",
              "  </thead>\n",
              "  <tbody>\n",
              "    <tr>\n",
              "      <th>0</th>\n",
              "      <td>Sunrise at the Mall</td>\n",
              "      <td>Thu, Oct 17, 2024 6:45am to 8:30am</td>\n",
              "      <td>Amsterdam Hall</td>\n",
              "      <td></td>\n",
              "      <td>Student Life</td>\n",
              "      <td>Invalid date format</td>\n",
              "      <td>Thu</td>\n",
              "      <td>6:45am</td>\n",
              "      <td>8:30am</td>\n",
              "    </tr>\n",
              "    <tr>\n",
              "      <th>1</th>\n",
              "      <td>Cyberfuture Summit</td>\n",
              "      <td>Thu, Oct 17, 2024 8am to 4pm</td>\n",
              "      <td>Amentum</td>\n",
              "      <td></td>\n",
              "      <td>Conference</td>\n",
              "      <td>Invalid date format</td>\n",
              "      <td>Thu</td>\n",
              "      <td>8am</td>\n",
              "      <td>4pm</td>\n",
              "    </tr>\n",
              "    <tr>\n",
              "      <th>2</th>\n",
              "      <td>Envisioning India: Why is India Growing Fast B...</td>\n",
              "      <td>Thu, Oct 17, 2024 9am to 10:30am</td>\n",
              "      <td>Elliott School of International Affairs, Sigur...</td>\n",
              "      <td>https://localist-images.azureedge.net/photos/4...</td>\n",
              "      <td>Academic</td>\n",
              "      <td>Invalid date format</td>\n",
              "      <td>Thu</td>\n",
              "      <td>9am</td>\n",
              "      <td>10:30am</td>\n",
              "    </tr>\n",
              "    <tr>\n",
              "      <th>3</th>\n",
              "      <td>Getting Started with Tableau</td>\n",
              "      <td>Thu, Oct 17, 2024 9:30am to 11:30am</td>\n",
              "      <td>Gelman Library</td>\n",
              "      <td>https://localist-images.azureedge.net/photos/4...</td>\n",
              "      <td>None</td>\n",
              "      <td>Invalid date format</td>\n",
              "      <td>Thu</td>\n",
              "      <td>9:30am</td>\n",
              "      <td>11:30am</td>\n",
              "    </tr>\n",
              "    <tr>\n",
              "      <th>4</th>\n",
              "      <td>2025 OE: Legal Wellness Seminar</td>\n",
              "      <td>Thu, Oct 17, 2024 10am to 11am</td>\n",
              "      <td>None</td>\n",
              "      <td></td>\n",
              "      <td>Health &amp; Wellness</td>\n",
              "      <td>Invalid date format</td>\n",
              "      <td>Thu</td>\n",
              "      <td>10am</td>\n",
              "      <td>11am</td>\n",
              "    </tr>\n",
              "  </tbody>\n",
              "</table>\n",
              "</div>\n",
              "    <div class=\"colab-df-buttons\">\n",
              "\n",
              "  <div class=\"colab-df-container\">\n",
              "    <button class=\"colab-df-convert\" onclick=\"convertToInteractive('df-350460fb-2b4a-4b4f-9426-3dc8567556b1')\"\n",
              "            title=\"Convert this dataframe to an interactive table.\"\n",
              "            style=\"display:none;\">\n",
              "\n",
              "  <svg xmlns=\"http://www.w3.org/2000/svg\" height=\"24px\" viewBox=\"0 -960 960 960\">\n",
              "    <path d=\"M120-120v-720h720v720H120Zm60-500h600v-160H180v160Zm220 220h160v-160H400v160Zm0 220h160v-160H400v160ZM180-400h160v-160H180v160Zm440 0h160v-160H620v160ZM180-180h160v-160H180v160Zm440 0h160v-160H620v160Z\"/>\n",
              "  </svg>\n",
              "    </button>\n",
              "\n",
              "  <style>\n",
              "    .colab-df-container {\n",
              "      display:flex;\n",
              "      gap: 12px;\n",
              "    }\n",
              "\n",
              "    .colab-df-convert {\n",
              "      background-color: #E8F0FE;\n",
              "      border: none;\n",
              "      border-radius: 50%;\n",
              "      cursor: pointer;\n",
              "      display: none;\n",
              "      fill: #1967D2;\n",
              "      height: 32px;\n",
              "      padding: 0 0 0 0;\n",
              "      width: 32px;\n",
              "    }\n",
              "\n",
              "    .colab-df-convert:hover {\n",
              "      background-color: #E2EBFA;\n",
              "      box-shadow: 0px 1px 2px rgba(60, 64, 67, 0.3), 0px 1px 3px 1px rgba(60, 64, 67, 0.15);\n",
              "      fill: #174EA6;\n",
              "    }\n",
              "\n",
              "    .colab-df-buttons div {\n",
              "      margin-bottom: 4px;\n",
              "    }\n",
              "\n",
              "    [theme=dark] .colab-df-convert {\n",
              "      background-color: #3B4455;\n",
              "      fill: #D2E3FC;\n",
              "    }\n",
              "\n",
              "    [theme=dark] .colab-df-convert:hover {\n",
              "      background-color: #434B5C;\n",
              "      box-shadow: 0px 1px 3px 1px rgba(0, 0, 0, 0.15);\n",
              "      filter: drop-shadow(0px 1px 2px rgba(0, 0, 0, 0.3));\n",
              "      fill: #FFFFFF;\n",
              "    }\n",
              "  </style>\n",
              "\n",
              "    <script>\n",
              "      const buttonEl =\n",
              "        document.querySelector('#df-350460fb-2b4a-4b4f-9426-3dc8567556b1 button.colab-df-convert');\n",
              "      buttonEl.style.display =\n",
              "        google.colab.kernel.accessAllowed ? 'block' : 'none';\n",
              "\n",
              "      async function convertToInteractive(key) {\n",
              "        const element = document.querySelector('#df-350460fb-2b4a-4b4f-9426-3dc8567556b1');\n",
              "        const dataTable =\n",
              "          await google.colab.kernel.invokeFunction('convertToInteractive',\n",
              "                                                    [key], {});\n",
              "        if (!dataTable) return;\n",
              "\n",
              "        const docLinkHtml = 'Like what you see? Visit the ' +\n",
              "          '<a target=\"_blank\" href=https://colab.research.google.com/notebooks/data_table.ipynb>data table notebook</a>'\n",
              "          + ' to learn more about interactive tables.';\n",
              "        element.innerHTML = '';\n",
              "        dataTable['output_type'] = 'display_data';\n",
              "        await google.colab.output.renderOutput(dataTable, element);\n",
              "        const docLink = document.createElement('div');\n",
              "        docLink.innerHTML = docLinkHtml;\n",
              "        element.appendChild(docLink);\n",
              "      }\n",
              "    </script>\n",
              "  </div>\n",
              "\n",
              "\n",
              "<div id=\"df-34a4b059-2ac2-4df4-9288-afbd4b71d1e8\">\n",
              "  <button class=\"colab-df-quickchart\" onclick=\"quickchart('df-34a4b059-2ac2-4df4-9288-afbd4b71d1e8')\"\n",
              "            title=\"Suggest charts\"\n",
              "            style=\"display:none;\">\n",
              "\n",
              "<svg xmlns=\"http://www.w3.org/2000/svg\" height=\"24px\"viewBox=\"0 0 24 24\"\n",
              "     width=\"24px\">\n",
              "    <g>\n",
              "        <path d=\"M19 3H5c-1.1 0-2 .9-2 2v14c0 1.1.9 2 2 2h14c1.1 0 2-.9 2-2V5c0-1.1-.9-2-2-2zM9 17H7v-7h2v7zm4 0h-2V7h2v10zm4 0h-2v-4h2v4z\"/>\n",
              "    </g>\n",
              "</svg>\n",
              "  </button>\n",
              "\n",
              "<style>\n",
              "  .colab-df-quickchart {\n",
              "      --bg-color: #E8F0FE;\n",
              "      --fill-color: #1967D2;\n",
              "      --hover-bg-color: #E2EBFA;\n",
              "      --hover-fill-color: #174EA6;\n",
              "      --disabled-fill-color: #AAA;\n",
              "      --disabled-bg-color: #DDD;\n",
              "  }\n",
              "\n",
              "  [theme=dark] .colab-df-quickchart {\n",
              "      --bg-color: #3B4455;\n",
              "      --fill-color: #D2E3FC;\n",
              "      --hover-bg-color: #434B5C;\n",
              "      --hover-fill-color: #FFFFFF;\n",
              "      --disabled-bg-color: #3B4455;\n",
              "      --disabled-fill-color: #666;\n",
              "  }\n",
              "\n",
              "  .colab-df-quickchart {\n",
              "    background-color: var(--bg-color);\n",
              "    border: none;\n",
              "    border-radius: 50%;\n",
              "    cursor: pointer;\n",
              "    display: none;\n",
              "    fill: var(--fill-color);\n",
              "    height: 32px;\n",
              "    padding: 0;\n",
              "    width: 32px;\n",
              "  }\n",
              "\n",
              "  .colab-df-quickchart:hover {\n",
              "    background-color: var(--hover-bg-color);\n",
              "    box-shadow: 0 1px 2px rgba(60, 64, 67, 0.3), 0 1px 3px 1px rgba(60, 64, 67, 0.15);\n",
              "    fill: var(--button-hover-fill-color);\n",
              "  }\n",
              "\n",
              "  .colab-df-quickchart-complete:disabled,\n",
              "  .colab-df-quickchart-complete:disabled:hover {\n",
              "    background-color: var(--disabled-bg-color);\n",
              "    fill: var(--disabled-fill-color);\n",
              "    box-shadow: none;\n",
              "  }\n",
              "\n",
              "  .colab-df-spinner {\n",
              "    border: 2px solid var(--fill-color);\n",
              "    border-color: transparent;\n",
              "    border-bottom-color: var(--fill-color);\n",
              "    animation:\n",
              "      spin 1s steps(1) infinite;\n",
              "  }\n",
              "\n",
              "  @keyframes spin {\n",
              "    0% {\n",
              "      border-color: transparent;\n",
              "      border-bottom-color: var(--fill-color);\n",
              "      border-left-color: var(--fill-color);\n",
              "    }\n",
              "    20% {\n",
              "      border-color: transparent;\n",
              "      border-left-color: var(--fill-color);\n",
              "      border-top-color: var(--fill-color);\n",
              "    }\n",
              "    30% {\n",
              "      border-color: transparent;\n",
              "      border-left-color: var(--fill-color);\n",
              "      border-top-color: var(--fill-color);\n",
              "      border-right-color: var(--fill-color);\n",
              "    }\n",
              "    40% {\n",
              "      border-color: transparent;\n",
              "      border-right-color: var(--fill-color);\n",
              "      border-top-color: var(--fill-color);\n",
              "    }\n",
              "    60% {\n",
              "      border-color: transparent;\n",
              "      border-right-color: var(--fill-color);\n",
              "    }\n",
              "    80% {\n",
              "      border-color: transparent;\n",
              "      border-right-color: var(--fill-color);\n",
              "      border-bottom-color: var(--fill-color);\n",
              "    }\n",
              "    90% {\n",
              "      border-color: transparent;\n",
              "      border-bottom-color: var(--fill-color);\n",
              "    }\n",
              "  }\n",
              "</style>\n",
              "\n",
              "  <script>\n",
              "    async function quickchart(key) {\n",
              "      const quickchartButtonEl =\n",
              "        document.querySelector('#' + key + ' button');\n",
              "      quickchartButtonEl.disabled = true;  // To prevent multiple clicks.\n",
              "      quickchartButtonEl.classList.add('colab-df-spinner');\n",
              "      try {\n",
              "        const charts = await google.colab.kernel.invokeFunction(\n",
              "            'suggestCharts', [key], {});\n",
              "      } catch (error) {\n",
              "        console.error('Error during call to suggestCharts:', error);\n",
              "      }\n",
              "      quickchartButtonEl.classList.remove('colab-df-spinner');\n",
              "      quickchartButtonEl.classList.add('colab-df-quickchart-complete');\n",
              "    }\n",
              "    (() => {\n",
              "      let quickchartButtonEl =\n",
              "        document.querySelector('#df-34a4b059-2ac2-4df4-9288-afbd4b71d1e8 button');\n",
              "      quickchartButtonEl.style.display =\n",
              "        google.colab.kernel.accessAllowed ? 'block' : 'none';\n",
              "    })();\n",
              "  </script>\n",
              "</div>\n",
              "\n",
              "    </div>\n",
              "  </div>\n"
            ],
            "application/vnd.google.colaboratory.intrinsic+json": {
              "type": "dataframe",
              "variable_name": "events_df",
              "summary": "{\n  \"name\": \"events_df\",\n  \"rows\": 21,\n  \"fields\": [\n    {\n      \"column\": \"title\",\n      \"properties\": {\n        \"dtype\": \"string\",\n        \"num_unique_values\": 21,\n        \"samples\": [\n          \"Sunrise at the Mall\",\n          \"Federal Resume Writing: Presented by OPM\",\n          \"Chimeric Whims\"\n        ],\n        \"semantic_type\": \"\",\n        \"description\": \"\"\n      }\n    },\n    {\n      \"column\": \"date_info\",\n      \"properties\": {\n        \"dtype\": \"string\",\n        \"num_unique_values\": 17,\n        \"samples\": [\n          \"Thu, Oct 17, 2024 6:45am to 8:30am\",\n          \"Thu, Oct 17, 2024 8am to 4pm\",\n          \"Thu, Oct 17, 2024 10am to 5pm\"\n        ],\n        \"semantic_type\": \"\",\n        \"description\": \"\"\n      }\n    },\n    {\n      \"column\": \"location\",\n      \"properties\": {\n        \"dtype\": \"string\",\n        \"num_unique_values\": 13,\n        \"samples\": [\n          \"Charlottesville, VA\",\n          \"Kogan Plaza, located in front of Gelman Library at 2130 H Street, NW, Washington, D.C., 20052\",\n          \"Amsterdam Hall\"\n        ],\n        \"semantic_type\": \"\",\n        \"description\": \"\"\n      }\n    },\n    {\n      \"column\": \"image_url\",\n      \"properties\": {\n        \"dtype\": \"category\",\n        \"num_unique_values\": 10,\n        \"samples\": [\n          \"https://localist-images.azureedge.net/photos/45434563570776/card/7de292b1700e6e35cf2d44d246c6820ac85934e4.jpg\",\n          \"https://localist-images.azureedge.net/photos/47658083121797/card/be36564e0c0ea74b36f1f2188880333052276a65.jpg\",\n          \"https://localist-images.azureedge.net/photos/47787952036812/card/a33a66809da43197ab52ce5058d7b3035b024005.jpg\"\n        ],\n        \"semantic_type\": \"\",\n        \"description\": \"\"\n      }\n    },\n    {\n      \"column\": \"event_type\",\n      \"properties\": {\n        \"dtype\": \"category\",\n        \"num_unique_values\": 10,\n        \"samples\": [\n          \"Info Session\",\n          \"Conference\",\n          \"\"\n        ],\n        \"semantic_type\": \"\",\n        \"description\": \"\"\n      }\n    },\n    {\n      \"column\": \"date\",\n      \"properties\": {\n        \"dtype\": \"category\",\n        \"num_unique_values\": 1,\n        \"samples\": [\n          \"Invalid date format\"\n        ],\n        \"semantic_type\": \"\",\n        \"description\": \"\"\n      }\n    },\n    {\n      \"column\": \"day_of_week\",\n      \"properties\": {\n        \"dtype\": \"category\",\n        \"num_unique_values\": 1,\n        \"samples\": [\n          \"Thu\"\n        ],\n        \"semantic_type\": \"\",\n        \"description\": \"\"\n      }\n    },\n    {\n      \"column\": \"start_time\",\n      \"properties\": {\n        \"dtype\": \"category\",\n        \"num_unique_values\": 9,\n        \"samples\": [\n          \"11:30am\"\n        ],\n        \"semantic_type\": \"\",\n        \"description\": \"\"\n      }\n    },\n    {\n      \"column\": \"end_time\",\n      \"properties\": {\n        \"dtype\": \"string\",\n        \"num_unique_values\": 11,\n        \"samples\": [\n          \"5pm\"\n        ],\n        \"semantic_type\": \"\",\n        \"description\": \"\"\n      }\n    }\n  ]\n}"
            }
          },
          "metadata": {},
          "execution_count": 5
        }
      ]
    },
    {
      "cell_type": "code",
      "source": [
        "events_df.to_csv(\"events.csv\")"
      ],
      "metadata": {
        "id": "E5_mC75FKPW2"
      },
      "execution_count": null,
      "outputs": []
    },
    {
      "cell_type": "markdown",
      "source": [
        "## Part II"
      ],
      "metadata": {
        "id": "kYeh6HG4eEvi"
      }
    },
    {
      "cell_type": "markdown",
      "source": [
        "### Fetch Events Function\n"
      ],
      "metadata": {
        "id": "IPvngdnHn5B8"
      }
    },
    {
      "cell_type": "markdown",
      "source": [
        "\n",
        "5-A) Write a custom function called `fetch_events`, which fetches the first page of events on a given day, and returns them as a list of dictionaries, where each dictionary contains the info mentioned in Question 2.\n",
        "  + The function should accept an optional parameter called `selected_date` (using a default value of `None`). When a date string like \"2023-10-20\" is passed, the function should fetch and return events on the specified date. Otherwise if the `selected_date` parameter is omitted, such as by default, the function should return today's events.\n",
        "\n",
        "\n",
        "> HINT: when we select a different date in the browser, the url will be something like: https://calendar.gwu.edu/calendar/day/2023/10/20\n",
        "\n",
        "\n",
        "> HINT: use a default value of `None` for the `selected_date` parameter. Inside the function, check the parameter's value, and if one is present, adjust the request url to include something like \"day/2023/10/20\" at the end.\n",
        "\n",
        "5-B) Revisit 5-A, and get all events for a given day (not just the first page of events).\n",
        "\n",
        "> HINT: when we select a different page in the browser, the url will be something like: https://calendar.gwu.edu/calendar/day/2023/10/20/3 for page 3. Use a loop to loop through the pages and increment the page counter until there are no more pages.\n",
        "\n",
        "6) Implement tests for the `fetch_events` function, using the examples below. Also write your own tests to describe what it means for the function to be working properly. Make sure your tests pass.\n",
        "\n",
        "\n",
        "```python\n",
        "from datetime import date\n",
        "\n",
        "# example tests:\n",
        "events = fetch_events()\n",
        "assert any(events)\n",
        "assert events[0][\"date\"] == str(date.today())\n",
        "\n",
        "events = fetch_events(\"2023-10-20\")\n",
        "assert any(events)\n",
        "assert events[0][\"date\"] == \"2023-10-20\"\n",
        "```"
      ],
      "metadata": {
        "id": "7QUixYn0pUeV"
      }
    },
    {
      "cell_type": "markdown",
      "source": [
        "Function definition:"
      ],
      "metadata": {
        "id": "oTKkpUV2gHDg"
      }
    },
    {
      "cell_type": "code",
      "source": [
        "\n",
        "\n",
        "# # FUNCTION DEFINITION:\n",
        "\n",
        "# def fetch_events(selected_date=None):\n",
        "#     events = []\n",
        "\n",
        "#     # TODO: fetch events\n",
        "\n",
        "#     # TODO: parse events\n",
        "\n",
        "#     return events\n",
        "\n"
      ],
      "metadata": {
        "id": "2_jskJNzM34-"
      },
      "execution_count": null,
      "outputs": []
    },
    {
      "cell_type": "code",
      "source": [
        "from datetime import date"
      ],
      "metadata": {
        "id": "cwDrnuGOhDnP"
      },
      "execution_count": null,
      "outputs": []
    },
    {
      "cell_type": "code",
      "source": [
        "import requests\n",
        "from bs4 import BeautifulSoup\n",
        "from IPython.display import display, Image\n",
        "from datetime import datetime, date\n",
        "import re\n",
        "\n",
        "# FUNCTION DEFINITION:\n",
        "def fetch_events(selected_date=None):\n",
        "    events = []\n",
        "\n",
        "\n",
        "    if selected_date:\n",
        "        date_obj = datetime.strptime(selected_date, \"%Y-%m-%d\")\n",
        "        url_date = f\"{date_obj.year}/{date_obj.month}/{date_obj.day}\"\n",
        "    else:\n",
        "        today = date.today()\n",
        "        url_date = f\"{today.year}/{today.month}/{today.day}\"\n",
        "\n",
        "\n",
        "    url = f\"https://calendar.gwu.edu/calendar/day/{url_date}\"\n",
        "    response = requests.get(url)\n",
        "    soup = BeautifulSoup(response.content, 'html.parser')\n",
        "\n",
        "\n",
        "    for event in soup.find_all(class_=\"em-card\"):\n",
        "        # Extract event title\n",
        "        title_tag = event.find(class_=\"em-card_title\")\n",
        "        title = title_tag.text.strip() if title_tag else None\n",
        "\n",
        "\n",
        "        date_info_tag = event.find_all(class_=\"em-card_event-text\")\n",
        "        if date_info_tag:\n",
        "            date_info = date_info_tag[0].text.strip() if date_info_tag else None\n",
        "            location_tag = date_info_tag[1].find('a') if len(date_info_tag) > 1 else None\n",
        "            location = location_tag.text.strip() if location_tag else None\n",
        "\n",
        "            # Decompose the date info into specific fields\n",
        "            date_info_parts = date_info.split(\",\")\n",
        "            day_of_week = date_info_parts[0].strip() if len(date_info_parts) > 0 else None\n",
        "            date_str = date_info_parts[1].strip() if len(date_info_parts) > 1 else None\n",
        "\n",
        "            # Convert the date to YYYY-MM-DD format\n",
        "            if date_str:\n",
        "                month_day_str = date_str.strip()\n",
        "                year = date.today().year\n",
        "                date_obj = datetime.strptime(f\"{month_day_str} {year}\", \"%b %d %Y\")\n",
        "                date_formatted = date_obj.strftime(\"%Y-%m-%d\")\n",
        "            else:\n",
        "                date_formatted = None\n",
        "\n",
        "            # Handling times, if present\n",
        "            if \"to\" in date_info:\n",
        "\n",
        "                time_info = date_info.split(\"to\")\n",
        "                start_time = time_info[0].split(\",\")[-1].strip() if time_info[0] else None\n",
        "                end_time = time_info[1].strip() if len(time_info) > 1 else None\n",
        "            else:\n",
        "                start_time = None\n",
        "                end_time = None\n",
        "        else:\n",
        "            day_of_week = None\n",
        "            date_formatted = None\n",
        "            start_time = None\n",
        "            end_time = None\n",
        "            location = None\n",
        "\n",
        "        # Extract image URL from the <div class=\"em-card_image\">\n",
        "        image_div = event.find(class_=\"em-card_image\")\n",
        "        image_url = None\n",
        "\n",
        "        if image_div:\n",
        "            # Check for img tag directly\n",
        "            image_tag = image_div.find(\"img\")\n",
        "            if image_tag:\n",
        "                image_url = image_tag.get('src')  # Get src for the image URL\n",
        "\n",
        "                # Optionally handle srcset for high-resolution images\n",
        "                srcset = image_tag.get('srcset')\n",
        "                if srcset:\n",
        "                    # Split srcset to get 2x resolution image URL if needed\n",
        "                    srcset_parts = srcset.split(',')\n",
        "                    if srcset_parts:\n",
        "                        # Use the last entry (1x resolution)\n",
        "                        image_url = srcset_parts[-1].split(' ')[0].strip()\n",
        "\n",
        "        # Extract event type / first tag\n",
        "        event_type_tag = event.find(class_=\"em-list_tags\")\n",
        "        event_type = event_type_tag.text.strip() if event_type_tag else None\n",
        "\n",
        "        # Add the extracted event info to the list as a dictionary\n",
        "        events.append({\n",
        "            'title': title,\n",
        "            'day_of_week': day_of_week,\n",
        "            'date': date_formatted,\n",
        "            'start_time': start_time,\n",
        "            'end_time': end_time,\n",
        "            'location': location,\n",
        "            'image_url': image_url,\n",
        "            'event_type': event_type\n",
        "        })\n",
        "\n",
        "        # Display event details\n",
        "        print(f\"Title: {title}\")\n",
        "        print(f\"Day: {day_of_week}\")\n",
        "        print(f\"Date: {date_formatted}\")\n",
        "        print(f\"Start Time: {start_time}\")\n",
        "        print(f\"End Time: {end_time}\")\n",
        "        print(f\"Location: {location}\")\n",
        "        print(f\"Event Type: {event_type}\")\n",
        "\n",
        "        # Display the image (if available)\n",
        "        if image_url:\n",
        "            print(f\"Image URL: {image_url}\")\n",
        "            display(Image(url=image_url))\n",
        "\n",
        "        print(\"-\" * 40)\n",
        "\n",
        "    return events\n"
      ],
      "metadata": {
        "id": "bXqeHNpEGdyZ"
      },
      "execution_count": null,
      "outputs": []
    },
    {
      "cell_type": "markdown",
      "source": [
        "Example tests:"
      ],
      "metadata": {
        "id": "GAkO64RYgFiv"
      }
    },
    {
      "cell_type": "code",
      "source": [
        "\n",
        "events = fetch_events()\n",
        "print(\"Today's Date:\", str(date.today()))\n",
        "print(\"First Event Date:\", events[0][\"date\"])\n",
        "assert events[0][\"date\"] == str(date.today())"
      ],
      "metadata": {
        "colab": {
          "base_uri": "https://localhost:8080/",
          "height": 1000
        },
        "id": "4A837_gohQ-V",
        "outputId": "e4e95834-755a-42e0-8f46-4d6ba97ea215"
      },
      "execution_count": null,
      "outputs": [
        {
          "output_type": "stream",
          "name": "stdout",
          "text": [
            "Title: Alumni & Families Weekend 2024\n",
            "Day: Fri\n",
            "Date: 2024-10-18\n",
            "Start Time: None\n",
            "End Time: None\n",
            "Location: None\n",
            "Event Type: Alumni\n",
            "----------------------------------------\n",
            "Title: Celebrate Fall!\n",
            "Day: Fri\n",
            "Date: 2024-10-18\n",
            "Start Time: 2024 9am\n",
            "End Time: 11am\n",
            "Location: Merriweather Lobby\n",
            "Event Type: Student Life\n",
            "Image URL: https://localist-images.azureedge.net/photos/47690782256649/card/e71f075e20a53b6a15a714ff48a7f890ea49628e.jpg\n"
          ]
        },
        {
          "output_type": "display_data",
          "data": {
            "text/html": [
              "<img src=\"https://localist-images.azureedge.net/photos/47690782256649/card/e71f075e20a53b6a15a714ff48a7f890ea49628e.jpg\"/>"
            ],
            "text/plain": [
              "<IPython.core.display.Image object>"
            ]
          },
          "metadata": {}
        },
        {
          "output_type": "stream",
          "name": "stdout",
          "text": [
            "----------------------------------------\n",
            "Title: 2025 OE: Critical Illness & Hospital Indemnity Overview\n",
            "Day: Fri\n",
            "Date: 2024-10-18\n",
            "Start Time: 2024 10am\n",
            "End Time: 11am\n",
            "Location: None\n",
            "Event Type: Health & Wellness\n",
            "----------------------------------------\n",
            "Title: A Tale of Two Houses\n",
            "Day: Fri\n",
            "Date: 2024-10-18\n",
            "Start Time: 2024 10am\n",
            "End Time: 5pm\n",
            "Location: The George Washington Museum and the Textile Museum\n",
            "Event Type: Arts & Culture\n",
            "Image URL: https://localist-images.azureedge.net/photos/47614343595670/card/318ae59ea438d46aa711fcb55172e093d256921a.jpg\n"
          ]
        },
        {
          "output_type": "display_data",
          "data": {
            "text/html": [
              "<img src=\"https://localist-images.azureedge.net/photos/47614343595670/card/318ae59ea438d46aa711fcb55172e093d256921a.jpg\"/>"
            ],
            "text/plain": [
              "<IPython.core.display.Image object>"
            ]
          },
          "metadata": {}
        },
        {
          "output_type": "stream",
          "name": "stdout",
          "text": [
            "----------------------------------------\n",
            "Title: Beyond Boba: Taiwan’s Culinary Culture In A Global Context\n",
            "Day: Fri\n",
            "Date: 2024-10-18\n",
            "Start Time: 2024 10am\n",
            "End Time: 11:30am\n",
            "Location: Elliott School of International Affairs, room 505\n",
            "Event Type: \n",
            "----------------------------------------\n",
            "Title: Chemistry Seminar: Mirza Galib, Howard University\n",
            "Day: Fri\n",
            "Date: 2024-10-18\n",
            "Start Time: 2024 10am\n",
            "End Time: 11am\n",
            "Location: Science & Engineering Hall, B1220\n",
            "Event Type: Lectures & Speakers\n",
            "Image URL: https://localist-images.azureedge.net/photos/47729117112843/card/c651a1417499c7c3f9cc729c0575d7272993b450.jpg\n"
          ]
        },
        {
          "output_type": "display_data",
          "data": {
            "text/html": [
              "<img src=\"https://localist-images.azureedge.net/photos/47729117112843/card/c651a1417499c7c3f9cc729c0575d7272993b450.jpg\"/>"
            ],
            "text/plain": [
              "<IPython.core.display.Image object>"
            ]
          },
          "metadata": {}
        },
        {
          "output_type": "stream",
          "name": "stdout",
          "text": [
            "----------------------------------------\n",
            "Title: Irresistible: The Global Patterns of Ikat\n",
            "Day: Fri\n",
            "Date: 2024-10-18\n",
            "Start Time: 2024 10am\n",
            "End Time: 5pm\n",
            "Location: The George Washington Museum and the Textile Museum\n",
            "Event Type: Arts & Culture\n",
            "Image URL: https://localist-images.azureedge.net/photos/46703531502333/card/9f3494ee5d5e0690bf5d1702ca2c9f2331bc5b6d.jpg\n"
          ]
        },
        {
          "output_type": "display_data",
          "data": {
            "text/html": [
              "<img src=\"https://localist-images.azureedge.net/photos/46703531502333/card/9f3494ee5d5e0690bf5d1702ca2c9f2331bc5b6d.jpg\"/>"
            ],
            "text/plain": [
              "<IPython.core.display.Image object>"
            ]
          },
          "metadata": {}
        },
        {
          "output_type": "stream",
          "name": "stdout",
          "text": [
            "----------------------------------------\n",
            "Title: Meet Current GW eOTD Students\n",
            "Day: Fri\n",
            "Date: 2024-10-18\n",
            "Start Time: 2024 10am\n",
            "End Time: 11am\n",
            "Location: None\n",
            "Event Type: Info Session\n",
            "Image URL: https://localist-images.azureedge.net/photos/47557977862954/card/845410628c5914dcb70b0ebcf94659cb7c486819.jpg\n"
          ]
        },
        {
          "output_type": "display_data",
          "data": {
            "text/html": [
              "<img src=\"https://localist-images.azureedge.net/photos/47557977862954/card/845410628c5914dcb70b0ebcf94659cb7c486819.jpg\"/>"
            ],
            "text/plain": [
              "<IPython.core.display.Image object>"
            ]
          },
          "metadata": {}
        },
        {
          "output_type": "stream",
          "name": "stdout",
          "text": [
            "----------------------------------------\n",
            "Title: Personal Values Exploration\n",
            "Day: Fri\n",
            "Date: 2024-10-18\n",
            "Start Time: 2024 10:30am\n",
            "End Time: 11:30am\n",
            "Location: USC 404\n",
            "Event Type: Student Life\n",
            "Image URL: https://localist-images.azureedge.net/photos/47496050912381/card/02c27638d7fc33de36fdc2fcfc9fdd30cfd2495a.jpg\n"
          ]
        },
        {
          "output_type": "display_data",
          "data": {
            "text/html": [
              "<img src=\"https://localist-images.azureedge.net/photos/47496050912381/card/02c27638d7fc33de36fdc2fcfc9fdd30cfd2495a.jpg\"/>"
            ],
            "text/plain": [
              "<IPython.core.display.Image object>"
            ]
          },
          "metadata": {}
        },
        {
          "output_type": "stream",
          "name": "stdout",
          "text": [
            "----------------------------------------\n",
            "Title: Statistical PhD Application Panel\n",
            "Day: Fri\n",
            "Date: 2024-10-18\n",
            "Start Time: 2024 10:30am\n",
            "End Time: 12pm\n",
            "Location: Rome Hall, Room 459\n",
            "Event Type: Student Life\n",
            "----------------------------------------\n",
            "Title: Engaging Alternatives to Traditional Assignments\n",
            "Day: Fri\n",
            "Date: 2024-10-18\n",
            "Start Time: 2024 11am\n",
            "End Time: 12pm\n",
            "Location: None\n",
            "Event Type: None\n",
            "Image URL: https://localist-images.azureedge.net/photos/45434561863690/card/ed4c2e120657ed32c8e29bc138f33791f442b206.jpg\n"
          ]
        },
        {
          "output_type": "display_data",
          "data": {
            "text/html": [
              "<img src=\"https://localist-images.azureedge.net/photos/45434561863690/card/ed4c2e120657ed32c8e29bc138f33791f442b206.jpg\"/>"
            ],
            "text/plain": [
              "<IPython.core.display.Image object>"
            ]
          },
          "metadata": {}
        },
        {
          "output_type": "stream",
          "name": "stdout",
          "text": [
            "----------------------------------------\n",
            "Title: IEEE ComSoc DLT Tour: Nicola Marchetti\n",
            "Day: Fri\n",
            "Date: 2024-10-18\n",
            "Start Time: 2024 11am\n",
            "End Time: 12:30pm\n",
            "Location: None\n",
            "Event Type: Lectures & Speakers\n",
            "----------------------------------------\n",
            "Title: Soh Jaipil Lecture Series: Seeds of Mobilization\n",
            "Day: Fri\n",
            "Date: 2024-10-18\n",
            "Start Time: 2024 11am\n",
            "End Time: 12:30pm\n",
            "Location: 1957 E Street NW, Room B17\n",
            "Event Type: Lectures & Speakers\n",
            "----------------------------------------\n",
            "Title: Title IX Virtual Office Hours\n",
            "Day: Fri\n",
            "Date: 2024-10-18\n",
            "Start Time: 2024 11am\n",
            "End Time: 12pm\n",
            "Location: None\n",
            "Event Type: Info Session\n",
            "----------------------------------------\n",
            "Title: 2025 OE: Retirement Income Planning For Her\n",
            "Day: Fri\n",
            "Date: 2024-10-18\n",
            "Start Time: 2024 12pm\n",
            "End Time: 1pm\n",
            "Location: None\n",
            "Event Type: Health & Wellness\n",
            "----------------------------------------\n",
            "Title: Animal Law & Science Webinar Series | Scientific Declarations on Animal Capacities\n",
            "Day: Fri\n",
            "Date: 2024-10-18\n",
            "Start Time: 2024 12pm\n",
            "End Time: 1pm\n",
            "Location: None\n",
            "Event Type: Lectures & Speakers\n",
            "Image URL: https://localist-images.azureedge.net/photos/47665981745812/card/975261a67aea919fa3dc2aefea8116fde027fab2.jpg\n"
          ]
        },
        {
          "output_type": "display_data",
          "data": {
            "text/html": [
              "<img src=\"https://localist-images.azureedge.net/photos/47665981745812/card/975261a67aea919fa3dc2aefea8116fde027fab2.jpg\"/>"
            ],
            "text/plain": [
              "<IPython.core.display.Image object>"
            ]
          },
          "metadata": {}
        },
        {
          "output_type": "stream",
          "name": "stdout",
          "text": [
            "----------------------------------------\n",
            "Title: Artistic Wellness: GW Art Therapy Clinic\n",
            "Day: Fri\n",
            "Date: 2024-10-18\n",
            "Start Time: 2024 12pm\n",
            "End Time: 1pm\n",
            "Location: Military Community Center\n",
            "Event Type: Student Life\n",
            "Image URL: https://localist-images.azureedge.net/photos/47540305515785/card/906b82fd97f1657557819a25026b0c3e5cb85692.jpg\n"
          ]
        },
        {
          "output_type": "display_data",
          "data": {
            "text/html": [
              "<img src=\"https://localist-images.azureedge.net/photos/47540305515785/card/906b82fd97f1657557819a25026b0c3e5cb85692.jpg\"/>"
            ],
            "text/plain": [
              "<IPython.core.display.Image object>"
            ]
          },
          "metadata": {}
        },
        {
          "output_type": "stream",
          "name": "stdout",
          "text": [
            "----------------------------------------\n",
            "Title: Chimeric Whims\n",
            "Day: Fri\n",
            "Date: 2024-10-18\n",
            "Start Time: 2024 12pm\n",
            "End Time: 5pm\n",
            "Location: Smith Hall of Art (Academic Center), Gallery 102\n",
            "Event Type: Arts & Culture\n",
            "----------------------------------------\n",
            "Title: Fuel & Flourish\n",
            "Day: Fri\n",
            "Date: 2024-10-18\n",
            "Start Time: 2024 12pm\n",
            "End Time: 1:30pm\n",
            "Location: District House Lounge\n",
            "Event Type: Student Life\n",
            "Image URL: https://localist-images.azureedge.net/photos/47611077378059/card/e5122aeffd57793a14ec61642503671e6e7db42e.jpg\n"
          ]
        },
        {
          "output_type": "display_data",
          "data": {
            "text/html": [
              "<img src=\"https://localist-images.azureedge.net/photos/47611077378059/card/e5122aeffd57793a14ec61642503671e6e7db42e.jpg\"/>"
            ],
            "text/plain": [
              "<IPython.core.display.Image object>"
            ]
          },
          "metadata": {}
        },
        {
          "output_type": "stream",
          "name": "stdout",
          "text": [
            "----------------------------------------\n",
            "Title: GW Dining Student Advisory Panel Meeting\n",
            "Day: Fri\n",
            "Date: 2024-10-18\n",
            "Start Time: 2024 12pm\n",
            "End Time: 1pm\n",
            "Location: District House, B206\n",
            "Event Type: Arts & Culture\n",
            "Image URL: https://localist-images.azureedge.net/photos/47499972175738/card/feefbed6a157bb98111178bb106d61f5c9b349bc.jpg\n"
          ]
        },
        {
          "output_type": "display_data",
          "data": {
            "text/html": [
              "<img src=\"https://localist-images.azureedge.net/photos/47499972175738/card/feefbed6a157bb98111178bb106d61f5c9b349bc.jpg\"/>"
            ],
            "text/plain": [
              "<IPython.core.display.Image object>"
            ]
          },
          "metadata": {}
        },
        {
          "output_type": "stream",
          "name": "stdout",
          "text": [
            "----------------------------------------\n",
            "Title: GW Dining Student Advisory Panel Meeting\n",
            "Day: Fri\n",
            "Date: 2024-10-18\n",
            "Start Time: 2024 12pm\n",
            "End Time: 1pm\n",
            "Location: District House B206\n",
            "Event Type: Student Life\n",
            "Image URL: https://localist-images.azureedge.net/photos/47504881305848/card/bf07121d7c75172c7aef8eaa1f8d6e9807d424d4.jpg\n"
          ]
        },
        {
          "output_type": "display_data",
          "data": {
            "text/html": [
              "<img src=\"https://localist-images.azureedge.net/photos/47504881305848/card/bf07121d7c75172c7aef8eaa1f8d6e9807d424d4.jpg\"/>"
            ],
            "text/plain": [
              "<IPython.core.display.Image object>"
            ]
          },
          "metadata": {}
        },
        {
          "output_type": "stream",
          "name": "stdout",
          "text": [
            "----------------------------------------\n",
            "Today's Date: 2024-10-18\n",
            "First Event Date: 2024-10-18\n"
          ]
        }
      ]
    },
    {
      "cell_type": "markdown",
      "source": [
        "Your own tests:"
      ],
      "metadata": {
        "id": "L00blW3agU67"
      }
    },
    {
      "cell_type": "code",
      "source": [
        "# Fetch all events\n",
        "events = fetch_events()\n",
        "\n",
        "# Filter events happening on Friday\n",
        "events_on_friday = [event for event in events if event[\"day_of_week\"] == \"Fri\"]\n",
        "\n",
        "# Debugging and testing the results\n",
        "print(\"Fetched Events on Friday:\", events_on_friday)\n",
        "assert any(events_on_friday), \"No events found on Friday.\"\n",
        "\n",
        "# Check if the first event's day is Friday\n",
        "print(\"First Event Day:\", events_on_friday[0][\"day_of_week\"])\n",
        "assert events_on_friday[0][\"day_of_week\"] == \"Fri\", \"First event doesn't happen on Friday.\"\n"
      ],
      "metadata": {
        "id": "1xpOpTcIgXEM",
        "colab": {
          "base_uri": "https://localhost:8080/",
          "height": 1000
        },
        "outputId": "a89128ed-e186-481a-b031-73cce0a6377f"
      },
      "execution_count": null,
      "outputs": [
        {
          "output_type": "stream",
          "name": "stdout",
          "text": [
            "Title: Alumni & Families Weekend 2024\n",
            "Day: Fri\n",
            "Date: 2024-10-18\n",
            "Start Time: None\n",
            "End Time: None\n",
            "Location: None\n",
            "Event Type: Alumni\n",
            "----------------------------------------\n",
            "Title: Celebrate Fall!\n",
            "Day: Fri\n",
            "Date: 2024-10-18\n",
            "Start Time: 2024 9am\n",
            "End Time: 11am\n",
            "Location: Merriweather Lobby\n",
            "Event Type: Student Life\n",
            "Image URL: https://localist-images.azureedge.net/photos/47690782256649/card/e71f075e20a53b6a15a714ff48a7f890ea49628e.jpg\n"
          ]
        },
        {
          "output_type": "display_data",
          "data": {
            "text/html": [
              "<img src=\"https://localist-images.azureedge.net/photos/47690782256649/card/e71f075e20a53b6a15a714ff48a7f890ea49628e.jpg\"/>"
            ],
            "text/plain": [
              "<IPython.core.display.Image object>"
            ]
          },
          "metadata": {}
        },
        {
          "output_type": "stream",
          "name": "stdout",
          "text": [
            "----------------------------------------\n",
            "Title: 2025 OE: Critical Illness & Hospital Indemnity Overview\n",
            "Day: Fri\n",
            "Date: 2024-10-18\n",
            "Start Time: 2024 10am\n",
            "End Time: 11am\n",
            "Location: None\n",
            "Event Type: Health & Wellness\n",
            "----------------------------------------\n",
            "Title: A Tale of Two Houses\n",
            "Day: Fri\n",
            "Date: 2024-10-18\n",
            "Start Time: 2024 10am\n",
            "End Time: 5pm\n",
            "Location: The George Washington Museum and the Textile Museum\n",
            "Event Type: Arts & Culture\n",
            "Image URL: https://localist-images.azureedge.net/photos/47614343595670/card/318ae59ea438d46aa711fcb55172e093d256921a.jpg\n"
          ]
        },
        {
          "output_type": "display_data",
          "data": {
            "text/html": [
              "<img src=\"https://localist-images.azureedge.net/photos/47614343595670/card/318ae59ea438d46aa711fcb55172e093d256921a.jpg\"/>"
            ],
            "text/plain": [
              "<IPython.core.display.Image object>"
            ]
          },
          "metadata": {}
        },
        {
          "output_type": "stream",
          "name": "stdout",
          "text": [
            "----------------------------------------\n",
            "Title: Beyond Boba: Taiwan’s Culinary Culture In A Global Context\n",
            "Day: Fri\n",
            "Date: 2024-10-18\n",
            "Start Time: 2024 10am\n",
            "End Time: 11:30am\n",
            "Location: Elliott School of International Affairs, room 505\n",
            "Event Type: \n",
            "----------------------------------------\n",
            "Title: Chemistry Seminar: Mirza Galib, Howard University\n",
            "Day: Fri\n",
            "Date: 2024-10-18\n",
            "Start Time: 2024 10am\n",
            "End Time: 11am\n",
            "Location: Science & Engineering Hall, B1220\n",
            "Event Type: Lectures & Speakers\n",
            "Image URL: https://localist-images.azureedge.net/photos/47729117112843/card/c651a1417499c7c3f9cc729c0575d7272993b450.jpg\n"
          ]
        },
        {
          "output_type": "display_data",
          "data": {
            "text/html": [
              "<img src=\"https://localist-images.azureedge.net/photos/47729117112843/card/c651a1417499c7c3f9cc729c0575d7272993b450.jpg\"/>"
            ],
            "text/plain": [
              "<IPython.core.display.Image object>"
            ]
          },
          "metadata": {}
        },
        {
          "output_type": "stream",
          "name": "stdout",
          "text": [
            "----------------------------------------\n",
            "Title: Irresistible: The Global Patterns of Ikat\n",
            "Day: Fri\n",
            "Date: 2024-10-18\n",
            "Start Time: 2024 10am\n",
            "End Time: 5pm\n",
            "Location: The George Washington Museum and the Textile Museum\n",
            "Event Type: Arts & Culture\n",
            "Image URL: https://localist-images.azureedge.net/photos/46703531502333/card/9f3494ee5d5e0690bf5d1702ca2c9f2331bc5b6d.jpg\n"
          ]
        },
        {
          "output_type": "display_data",
          "data": {
            "text/html": [
              "<img src=\"https://localist-images.azureedge.net/photos/46703531502333/card/9f3494ee5d5e0690bf5d1702ca2c9f2331bc5b6d.jpg\"/>"
            ],
            "text/plain": [
              "<IPython.core.display.Image object>"
            ]
          },
          "metadata": {}
        },
        {
          "output_type": "stream",
          "name": "stdout",
          "text": [
            "----------------------------------------\n",
            "Title: Meet Current GW eOTD Students\n",
            "Day: Fri\n",
            "Date: 2024-10-18\n",
            "Start Time: 2024 10am\n",
            "End Time: 11am\n",
            "Location: None\n",
            "Event Type: Info Session\n",
            "Image URL: https://localist-images.azureedge.net/photos/47557977862954/card/845410628c5914dcb70b0ebcf94659cb7c486819.jpg\n"
          ]
        },
        {
          "output_type": "display_data",
          "data": {
            "text/html": [
              "<img src=\"https://localist-images.azureedge.net/photos/47557977862954/card/845410628c5914dcb70b0ebcf94659cb7c486819.jpg\"/>"
            ],
            "text/plain": [
              "<IPython.core.display.Image object>"
            ]
          },
          "metadata": {}
        },
        {
          "output_type": "stream",
          "name": "stdout",
          "text": [
            "----------------------------------------\n",
            "Title: Personal Values Exploration\n",
            "Day: Fri\n",
            "Date: 2024-10-18\n",
            "Start Time: 2024 10:30am\n",
            "End Time: 11:30am\n",
            "Location: USC 404\n",
            "Event Type: Student Life\n",
            "Image URL: https://localist-images.azureedge.net/photos/47496050912381/card/02c27638d7fc33de36fdc2fcfc9fdd30cfd2495a.jpg\n"
          ]
        },
        {
          "output_type": "display_data",
          "data": {
            "text/html": [
              "<img src=\"https://localist-images.azureedge.net/photos/47496050912381/card/02c27638d7fc33de36fdc2fcfc9fdd30cfd2495a.jpg\"/>"
            ],
            "text/plain": [
              "<IPython.core.display.Image object>"
            ]
          },
          "metadata": {}
        },
        {
          "output_type": "stream",
          "name": "stdout",
          "text": [
            "----------------------------------------\n",
            "Title: Statistical PhD Application Panel\n",
            "Day: Fri\n",
            "Date: 2024-10-18\n",
            "Start Time: 2024 10:30am\n",
            "End Time: 12pm\n",
            "Location: Rome Hall, Room 459\n",
            "Event Type: Student Life\n",
            "----------------------------------------\n",
            "Title: Engaging Alternatives to Traditional Assignments\n",
            "Day: Fri\n",
            "Date: 2024-10-18\n",
            "Start Time: 2024 11am\n",
            "End Time: 12pm\n",
            "Location: None\n",
            "Event Type: None\n",
            "Image URL: https://localist-images.azureedge.net/photos/45434561863690/card/ed4c2e120657ed32c8e29bc138f33791f442b206.jpg\n"
          ]
        },
        {
          "output_type": "display_data",
          "data": {
            "text/html": [
              "<img src=\"https://localist-images.azureedge.net/photos/45434561863690/card/ed4c2e120657ed32c8e29bc138f33791f442b206.jpg\"/>"
            ],
            "text/plain": [
              "<IPython.core.display.Image object>"
            ]
          },
          "metadata": {}
        },
        {
          "output_type": "stream",
          "name": "stdout",
          "text": [
            "----------------------------------------\n",
            "Title: IEEE ComSoc DLT Tour: Nicola Marchetti\n",
            "Day: Fri\n",
            "Date: 2024-10-18\n",
            "Start Time: 2024 11am\n",
            "End Time: 12:30pm\n",
            "Location: None\n",
            "Event Type: Lectures & Speakers\n",
            "----------------------------------------\n",
            "Title: Soh Jaipil Lecture Series: Seeds of Mobilization\n",
            "Day: Fri\n",
            "Date: 2024-10-18\n",
            "Start Time: 2024 11am\n",
            "End Time: 12:30pm\n",
            "Location: 1957 E Street NW, Room B17\n",
            "Event Type: Lectures & Speakers\n",
            "----------------------------------------\n",
            "Title: Title IX Virtual Office Hours\n",
            "Day: Fri\n",
            "Date: 2024-10-18\n",
            "Start Time: 2024 11am\n",
            "End Time: 12pm\n",
            "Location: None\n",
            "Event Type: Info Session\n",
            "----------------------------------------\n",
            "Title: 2025 OE: Retirement Income Planning For Her\n",
            "Day: Fri\n",
            "Date: 2024-10-18\n",
            "Start Time: 2024 12pm\n",
            "End Time: 1pm\n",
            "Location: None\n",
            "Event Type: Health & Wellness\n",
            "----------------------------------------\n",
            "Title: Animal Law & Science Webinar Series | Scientific Declarations on Animal Capacities\n",
            "Day: Fri\n",
            "Date: 2024-10-18\n",
            "Start Time: 2024 12pm\n",
            "End Time: 1pm\n",
            "Location: None\n",
            "Event Type: Lectures & Speakers\n",
            "Image URL: https://localist-images.azureedge.net/photos/47665981745812/card/975261a67aea919fa3dc2aefea8116fde027fab2.jpg\n"
          ]
        },
        {
          "output_type": "display_data",
          "data": {
            "text/html": [
              "<img src=\"https://localist-images.azureedge.net/photos/47665981745812/card/975261a67aea919fa3dc2aefea8116fde027fab2.jpg\"/>"
            ],
            "text/plain": [
              "<IPython.core.display.Image object>"
            ]
          },
          "metadata": {}
        },
        {
          "output_type": "stream",
          "name": "stdout",
          "text": [
            "----------------------------------------\n",
            "Title: Artistic Wellness: GW Art Therapy Clinic\n",
            "Day: Fri\n",
            "Date: 2024-10-18\n",
            "Start Time: 2024 12pm\n",
            "End Time: 1pm\n",
            "Location: Military Community Center\n",
            "Event Type: Student Life\n",
            "Image URL: https://localist-images.azureedge.net/photos/47540305515785/card/906b82fd97f1657557819a25026b0c3e5cb85692.jpg\n"
          ]
        },
        {
          "output_type": "display_data",
          "data": {
            "text/html": [
              "<img src=\"https://localist-images.azureedge.net/photos/47540305515785/card/906b82fd97f1657557819a25026b0c3e5cb85692.jpg\"/>"
            ],
            "text/plain": [
              "<IPython.core.display.Image object>"
            ]
          },
          "metadata": {}
        },
        {
          "output_type": "stream",
          "name": "stdout",
          "text": [
            "----------------------------------------\n",
            "Title: Chimeric Whims\n",
            "Day: Fri\n",
            "Date: 2024-10-18\n",
            "Start Time: 2024 12pm\n",
            "End Time: 5pm\n",
            "Location: Smith Hall of Art (Academic Center), Gallery 102\n",
            "Event Type: Arts & Culture\n",
            "----------------------------------------\n",
            "Title: Fuel & Flourish\n",
            "Day: Fri\n",
            "Date: 2024-10-18\n",
            "Start Time: 2024 12pm\n",
            "End Time: 1:30pm\n",
            "Location: District House Lounge\n",
            "Event Type: Student Life\n",
            "Image URL: https://localist-images.azureedge.net/photos/47611077378059/card/e5122aeffd57793a14ec61642503671e6e7db42e.jpg\n"
          ]
        },
        {
          "output_type": "display_data",
          "data": {
            "text/html": [
              "<img src=\"https://localist-images.azureedge.net/photos/47611077378059/card/e5122aeffd57793a14ec61642503671e6e7db42e.jpg\"/>"
            ],
            "text/plain": [
              "<IPython.core.display.Image object>"
            ]
          },
          "metadata": {}
        },
        {
          "output_type": "stream",
          "name": "stdout",
          "text": [
            "----------------------------------------\n",
            "Title: GW Dining Student Advisory Panel Meeting\n",
            "Day: Fri\n",
            "Date: 2024-10-18\n",
            "Start Time: 2024 12pm\n",
            "End Time: 1pm\n",
            "Location: District House, B206\n",
            "Event Type: Arts & Culture\n",
            "Image URL: https://localist-images.azureedge.net/photos/47499972175738/card/feefbed6a157bb98111178bb106d61f5c9b349bc.jpg\n"
          ]
        },
        {
          "output_type": "display_data",
          "data": {
            "text/html": [
              "<img src=\"https://localist-images.azureedge.net/photos/47499972175738/card/feefbed6a157bb98111178bb106d61f5c9b349bc.jpg\"/>"
            ],
            "text/plain": [
              "<IPython.core.display.Image object>"
            ]
          },
          "metadata": {}
        },
        {
          "output_type": "stream",
          "name": "stdout",
          "text": [
            "----------------------------------------\n",
            "Title: GW Dining Student Advisory Panel Meeting\n",
            "Day: Fri\n",
            "Date: 2024-10-18\n",
            "Start Time: 2024 12pm\n",
            "End Time: 1pm\n",
            "Location: District House B206\n",
            "Event Type: Student Life\n",
            "Image URL: https://localist-images.azureedge.net/photos/47504881305848/card/bf07121d7c75172c7aef8eaa1f8d6e9807d424d4.jpg\n"
          ]
        },
        {
          "output_type": "display_data",
          "data": {
            "text/html": [
              "<img src=\"https://localist-images.azureedge.net/photos/47504881305848/card/bf07121d7c75172c7aef8eaa1f8d6e9807d424d4.jpg\"/>"
            ],
            "text/plain": [
              "<IPython.core.display.Image object>"
            ]
          },
          "metadata": {}
        },
        {
          "output_type": "stream",
          "name": "stdout",
          "text": [
            "----------------------------------------\n",
            "Fetched Events on Friday: [{'title': 'Alumni & Families Weekend 2024', 'day_of_week': 'Fri', 'date': '2024-10-18', 'start_time': None, 'end_time': None, 'location': None, 'image_url': '', 'event_type': 'Alumni'}, {'title': 'Celebrate Fall!', 'day_of_week': 'Fri', 'date': '2024-10-18', 'start_time': '2024 9am', 'end_time': '11am', 'location': 'Merriweather Lobby', 'image_url': 'https://localist-images.azureedge.net/photos/47690782256649/card/e71f075e20a53b6a15a714ff48a7f890ea49628e.jpg', 'event_type': 'Student Life'}, {'title': '2025 OE: Critical Illness & Hospital Indemnity Overview', 'day_of_week': 'Fri', 'date': '2024-10-18', 'start_time': '2024 10am', 'end_time': '11am', 'location': None, 'image_url': '', 'event_type': 'Health & Wellness'}, {'title': 'A Tale of Two Houses', 'day_of_week': 'Fri', 'date': '2024-10-18', 'start_time': '2024 10am', 'end_time': '5pm', 'location': 'The George Washington Museum and the Textile Museum', 'image_url': 'https://localist-images.azureedge.net/photos/47614343595670/card/318ae59ea438d46aa711fcb55172e093d256921a.jpg', 'event_type': 'Arts & Culture'}, {'title': 'Beyond Boba: Taiwan’s Culinary Culture In A Global Context', 'day_of_week': 'Fri', 'date': '2024-10-18', 'start_time': '2024 10am', 'end_time': '11:30am', 'location': 'Elliott School of International Affairs, room 505', 'image_url': '', 'event_type': ''}, {'title': 'Chemistry Seminar: Mirza Galib, Howard University', 'day_of_week': 'Fri', 'date': '2024-10-18', 'start_time': '2024 10am', 'end_time': '11am', 'location': 'Science & Engineering Hall, B1220', 'image_url': 'https://localist-images.azureedge.net/photos/47729117112843/card/c651a1417499c7c3f9cc729c0575d7272993b450.jpg', 'event_type': 'Lectures & Speakers'}, {'title': 'Irresistible: The Global Patterns of Ikat', 'day_of_week': 'Fri', 'date': '2024-10-18', 'start_time': '2024 10am', 'end_time': '5pm', 'location': 'The George Washington Museum and the Textile Museum', 'image_url': 'https://localist-images.azureedge.net/photos/46703531502333/card/9f3494ee5d5e0690bf5d1702ca2c9f2331bc5b6d.jpg', 'event_type': 'Arts & Culture'}, {'title': 'Meet Current GW eOTD Students', 'day_of_week': 'Fri', 'date': '2024-10-18', 'start_time': '2024 10am', 'end_time': '11am', 'location': None, 'image_url': 'https://localist-images.azureedge.net/photos/47557977862954/card/845410628c5914dcb70b0ebcf94659cb7c486819.jpg', 'event_type': 'Info Session'}, {'title': 'Personal Values Exploration', 'day_of_week': 'Fri', 'date': '2024-10-18', 'start_time': '2024 10:30am', 'end_time': '11:30am', 'location': 'USC 404', 'image_url': 'https://localist-images.azureedge.net/photos/47496050912381/card/02c27638d7fc33de36fdc2fcfc9fdd30cfd2495a.jpg', 'event_type': 'Student Life'}, {'title': 'Statistical PhD Application Panel', 'day_of_week': 'Fri', 'date': '2024-10-18', 'start_time': '2024 10:30am', 'end_time': '12pm', 'location': 'Rome Hall, Room 459', 'image_url': '', 'event_type': 'Student Life'}, {'title': 'Engaging Alternatives to Traditional Assignments', 'day_of_week': 'Fri', 'date': '2024-10-18', 'start_time': '2024 11am', 'end_time': '12pm', 'location': None, 'image_url': 'https://localist-images.azureedge.net/photos/45434561863690/card/ed4c2e120657ed32c8e29bc138f33791f442b206.jpg', 'event_type': None}, {'title': 'IEEE ComSoc DLT Tour: Nicola Marchetti', 'day_of_week': 'Fri', 'date': '2024-10-18', 'start_time': '2024 11am', 'end_time': '12:30pm', 'location': None, 'image_url': '', 'event_type': 'Lectures & Speakers'}, {'title': 'Soh Jaipil Lecture Series: Seeds of Mobilization', 'day_of_week': 'Fri', 'date': '2024-10-18', 'start_time': '2024 11am', 'end_time': '12:30pm', 'location': '1957 E Street NW, Room B17', 'image_url': '', 'event_type': 'Lectures & Speakers'}, {'title': 'Title IX Virtual Office Hours', 'day_of_week': 'Fri', 'date': '2024-10-18', 'start_time': '2024 11am', 'end_time': '12pm', 'location': None, 'image_url': '', 'event_type': 'Info Session'}, {'title': '2025 OE: Retirement Income Planning For Her', 'day_of_week': 'Fri', 'date': '2024-10-18', 'start_time': '2024 12pm', 'end_time': '1pm', 'location': None, 'image_url': '', 'event_type': 'Health & Wellness'}, {'title': 'Animal Law & Science Webinar Series | Scientific Declarations on Animal Capacities', 'day_of_week': 'Fri', 'date': '2024-10-18', 'start_time': '2024 12pm', 'end_time': '1pm', 'location': None, 'image_url': 'https://localist-images.azureedge.net/photos/47665981745812/card/975261a67aea919fa3dc2aefea8116fde027fab2.jpg', 'event_type': 'Lectures & Speakers'}, {'title': 'Artistic Wellness: GW Art Therapy Clinic', 'day_of_week': 'Fri', 'date': '2024-10-18', 'start_time': '2024 12pm', 'end_time': '1pm', 'location': 'Military Community Center', 'image_url': 'https://localist-images.azureedge.net/photos/47540305515785/card/906b82fd97f1657557819a25026b0c3e5cb85692.jpg', 'event_type': 'Student Life'}, {'title': 'Chimeric Whims', 'day_of_week': 'Fri', 'date': '2024-10-18', 'start_time': '2024 12pm', 'end_time': '5pm', 'location': 'Smith Hall of Art (Academic Center), Gallery 102', 'image_url': '', 'event_type': 'Arts & Culture'}, {'title': 'Fuel & Flourish', 'day_of_week': 'Fri', 'date': '2024-10-18', 'start_time': '2024 12pm', 'end_time': '1:30pm', 'location': 'District House Lounge', 'image_url': 'https://localist-images.azureedge.net/photos/47611077378059/card/e5122aeffd57793a14ec61642503671e6e7db42e.jpg', 'event_type': 'Student Life'}, {'title': 'GW Dining Student Advisory Panel Meeting', 'day_of_week': 'Fri', 'date': '2024-10-18', 'start_time': '2024 12pm', 'end_time': '1pm', 'location': 'District House, B206', 'image_url': 'https://localist-images.azureedge.net/photos/47499972175738/card/feefbed6a157bb98111178bb106d61f5c9b349bc.jpg', 'event_type': 'Arts & Culture'}, {'title': 'GW Dining Student Advisory Panel Meeting', 'day_of_week': 'Fri', 'date': '2024-10-18', 'start_time': '2024 12pm', 'end_time': '1pm', 'location': 'District House B206', 'image_url': 'https://localist-images.azureedge.net/photos/47504881305848/card/bf07121d7c75172c7aef8eaa1f8d6e9807d424d4.jpg', 'event_type': 'Student Life'}]\n",
            "First Event Day: Fri\n"
          ]
        }
      ]
    },
    {
      "cell_type": "markdown",
      "source": [
        "## Exploration / Scratch Work"
      ],
      "metadata": {
        "id": "5g0caLA_rGMu"
      }
    },
    {
      "cell_type": "markdown",
      "source": [
        "Optionally use this section for scratch work. Its contents will not be evaluated. Make sure the \"Solution\" section contains any code you want to be evaluated."
      ],
      "metadata": {
        "id": "-DATg8aJYnsN"
      }
    },
    {
      "cell_type": "code",
      "execution_count": null,
      "metadata": {
        "id": "CFBlg22e-qnD"
      },
      "outputs": [],
      "source": []
    },
    {
      "cell_type": "code",
      "source": [],
      "metadata": {
        "id": "_t7U5SUgKqB6"
      },
      "execution_count": null,
      "outputs": []
    },
    {
      "cell_type": "code",
      "source": [],
      "metadata": {
        "id": "CbCfxTD-Xnud"
      },
      "execution_count": null,
      "outputs": []
    },
    {
      "cell_type": "code",
      "source": [],
      "metadata": {
        "id": "BlWjQ6_lXnp9"
      },
      "execution_count": null,
      "outputs": []
    },
    {
      "cell_type": "code",
      "source": [],
      "metadata": {
        "id": "zbWsaPY4XnnQ"
      },
      "execution_count": null,
      "outputs": []
    },
    {
      "cell_type": "markdown",
      "source": [
        "### Date Parsing Function"
      ],
      "metadata": {
        "id": "AKY9_HQBjt4K"
      }
    },
    {
      "cell_type": "code",
      "source": [
        "\n",
        "def date_parser(date_info:str):\n",
        "\n",
        "    # TODO: parse the date string\n",
        "\n",
        "    return {\n",
        "        \"weekday\": \"TODO\",\n",
        "        \"date\": \"TODO\",\n",
        "        \"start\": \"TODO\",\n",
        "        \"end\": \"TODO\",\n",
        "    }\n"
      ],
      "metadata": {
        "id": "jobXGxcvjtPf"
      },
      "execution_count": null,
      "outputs": []
    },
    {
      "cell_type": "code",
      "source": [
        "from datetime import datetime\n",
        "\n",
        "def date_parser(date_str):\n",
        "    # Check if the date string includes a time range\n",
        "    if \"to\" in date_str:\n",
        "        # Case with start and end times\n",
        "        parts = date_str.split(\" to \")\n",
        "        start_time = datetime.strptime(parts[0], \"%a, %b %d, %Y %I%p\")\n",
        "\n",
        "        # Parse the end time from the second part\n",
        "        end_time = datetime.strptime(parts[1], \"%I:%M%p\").strftime(\"%I:%M%p\").lower()\n",
        "\n",
        "        return {\n",
        "            \"weekday\": start_time.strftime(\"%a\"),  # Short weekday name (\"Mon\")\n",
        "            \"date\": start_time.strftime(\"%Y-%m-%d\"),\n",
        "            \"start\": start_time.strftime(\"%I:%M%p\").lower(),  # Start time in 12-hour format\n",
        "            \"end\": end_time  # End time in 12-hour format\n",
        "        }\n",
        "    else:\n",
        "        # Case with only the date, no times\n",
        "        start_time = datetime.strptime(date_str, \"%a, %b %d, %Y\")  # Parse date only\n",
        "\n",
        "        return {\n",
        "            \"weekday\": start_time.strftime(\"%a\"),  # Short weekday name (\"Mon\")\n",
        "            \"date\": start_time.strftime(\"%Y-%m-%d\"),\n",
        "            \"start\": None,  # No start time\n",
        "            \"end\": None  # No end time\n",
        "        }\n",
        "\n",
        "\n",
        "d1 = \"Mon, Oct 2, 2023 10am to 11:30am\"\n",
        "parsed_result_d1 = date_parser(d1)\n",
        "print(parsed_result_d1)\n",
        "\n",
        "assert parsed_result_d1 == {\n",
        "    \"weekday\": \"Mon\",  # Short weekday name\n",
        "    \"date\": \"2023-10-02\",\n",
        "    \"start\": \"10:00am\",  # Start time in 12-hour format\n",
        "    \"end\": \"11:30am\"  # End time in 12-hour format\n",
        "}\n",
        "\n",
        "\n",
        "d2 = \"Mon, Oct 2, 2023\"\n",
        "parsed_result_d2 = date_parser(d2)\n",
        "print(parsed_result_d2)\n",
        "\n",
        "assert parsed_result_d2 == {\n",
        "    \"weekday\": \"Mon\",  # Short weekday name\n",
        "    \"date\": \"2023-10-02\",\n",
        "    \"start\": None,  # No start time\n",
        "    \"end\": None  # No end time\n",
        "}\n"
      ],
      "metadata": {
        "colab": {
          "base_uri": "https://localhost:8080/"
        },
        "id": "DHc2Kd2xm9Ul",
        "outputId": "fb74743b-dd56-4d4c-9587-1e0747616d4c"
      },
      "execution_count": null,
      "outputs": [
        {
          "output_type": "stream",
          "name": "stdout",
          "text": [
            "{'weekday': 'Mon', 'date': '2023-10-02', 'start': '10:00am', 'end': '11:30am'}\n",
            "{'weekday': 'Mon', 'date': '2023-10-02', 'start': None, 'end': None}\n"
          ]
        }
      ]
    }
  ]
}