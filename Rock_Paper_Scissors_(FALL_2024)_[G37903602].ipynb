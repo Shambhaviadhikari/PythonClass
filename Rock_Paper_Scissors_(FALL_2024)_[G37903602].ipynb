{
  "nbformat": 4,
  "nbformat_minor": 0,
  "metadata": {
    "colab": {
      "provenance": [],
      "include_colab_link": true
    },
    "kernelspec": {
      "name": "python3",
      "display_name": "Python 3"
    },
    "language_info": {
      "name": "python"
    }
  },
  "cells": [
    {
      "cell_type": "markdown",
      "metadata": {
        "id": "view-in-github",
        "colab_type": "text"
      },
      "source": [
        "<a href=\"https://colab.research.google.com/github/Shambhaviadhikari/PythonClass/blob/main/Rock_Paper_Scissors_(FALL_2024)_%5BG37903602%5D.ipynb\" target=\"_parent\"><img src=\"https://colab.research.google.com/assets/colab-badge.svg\" alt=\"Open In Colab\"/></a>"
      ]
    },
    {
      "cell_type": "markdown",
      "source": [
        "# \"Rock, Paper, Scissors\" Exercise\n"
      ],
      "metadata": {
        "id": "kWD8aWhLRb3s"
      }
    },
    {
      "cell_type": "markdown",
      "source": [
        "Develop a Python application which will allow a human user to play a game of Rock-Paper-Scissors against a computer opponent. The game's functionality should adhere to the \"Requirements\" section below.\n",
        "\n",
        "For this assignment specifically, all game code should exist in a single cell in the \"Solution\" section."
      ],
      "metadata": {
        "id": "4Srdlse6bI5q"
      }
    },
    {
      "cell_type": "markdown",
      "source": [
        "## Learning Objectives\n"
      ],
      "metadata": {
        "id": "qqSC3UQaRxl7"
      }
    },
    {
      "cell_type": "markdown",
      "source": [
        "\n",
        "  + Gain familiarity with the Python programming language, focusing on variables and conditional logic.\n",
        "  + Process and validate user inputs in Python.\n",
        "  + Use functionality provided by built-in Python modules.\n",
        "  + Practice editing, saving, and running Python notebooks.\n",
        "  + Have fun! 😸"
      ],
      "metadata": {
        "id": "lK0t6fqnRm60"
      }
    },
    {
      "cell_type": "markdown",
      "source": [
        "## Requirements\n",
        "\n"
      ],
      "metadata": {
        "id": "tnj6eer-RnND"
      }
    },
    {
      "cell_type": "markdown",
      "source": [
        "### Notebook Secrets"
      ],
      "metadata": {
        "id": "G0y8GBQnHnII"
      }
    },
    {
      "cell_type": "markdown",
      "source": [
        "The application should instruct the player via text cell to set their name as a notebook secret called `PLAYER_NAME` (done for you).\n",
        "\n",
        "Then the application should then read this value from the notebook secrets, and store the value in a Python variable called `player_name`. The application should display a friendly message welcoming the user, such as \"Welcome Jon, to our Rock Paper Scissors Game!\" (for example if \"Jon\" was set as the player's name).\n",
        "\n",
        "> HINT: adapt the example code relating to `userdata`, provided at the bottom of the notebook secrets menu, but change the variable names."
      ],
      "metadata": {
        "id": "ym6HBjgoHpIJ"
      }
    },
    {
      "cell_type": "markdown",
      "source": [
        "### Processing User Inputs\n"
      ],
      "metadata": {
        "id": "6FOgQKiFRnQJ"
      }
    },
    {
      "cell_type": "markdown",
      "source": [
        "\n",
        "The application should prompt the user to input, or otherwise select, an option (i.e. \"rock\", \"paper\", or \"scissors\"). It should store the user's selection in a variable for later reference.\n",
        "\n",
        "> HINT: use [the `input()` function](https://github.com/prof-rossetti/intro-to-python/blob/main/notes/python/inputs.md) to capture user inputs.\n"
      ],
      "metadata": {
        "id": "vddQO9rNTs9L"
      }
    },
    {
      "cell_type": "markdown",
      "source": [
        "### Validating User Inputs\n"
      ],
      "metadata": {
        "id": "aaKY-opmT1X-"
      }
    },
    {
      "cell_type": "markdown",
      "source": [
        "\n",
        "\n",
        "The application should compare the user's selection against the list of valid options (i.e. \"rock\", \"paper\", \"scissors\") to determine whether the user has selected a valid option.\n",
        "\n",
        "It should be able to handle various capitalizations of the valid options (e.g. \"ROCK\", \"Rock\", \"rock\", \"RoCk\", etc.).\n",
        "\n",
        "If the selection is invalid, the program should fail gracefully by displaying a friendly message to the user, and preventing further program execution. The program should not try to further process an invalid input, as it may lead to runtime errors."
      ],
      "metadata": {
        "id": "JNMU2msRRnS8"
      }
    },
    {
      "cell_type": "markdown",
      "source": [
        "### Simulating Computer Selection\n"
      ],
      "metadata": {
        "id": "dcUV0BzvTmpY"
      }
    },
    {
      "cell_type": "markdown",
      "source": [
        "\n",
        "\n",
        "The application should select one of the options (i.e. \"rock\", \"paper\", or \"scissors\") at random, and assign that as the computer player's choice.\n",
        "\n",
        "> HINT: use the `choice()` function provided by [the `random` module](https://github.com/prof-rossetti/intro-to-python/blob/main/notes/python/modules/random.md).\n",
        "\n",
        "> HINT: ensure the valid choices are stored in a [\"list\" datatype](https://github.com/prof-rossetti/intro-to-python/blob/main/notes/python/datatypes/lists.md), and then pass that list to the random choice function.\n"
      ],
      "metadata": {
        "id": "UJPuIG1BTnCM"
      }
    },
    {
      "cell_type": "markdown",
      "source": [
        "### Determining the Winner\n"
      ],
      "metadata": {
        "id": "Yq76aqerS-K7"
      }
    },
    {
      "cell_type": "markdown",
      "source": [
        "\n",
        "\n",
        "The application should compare the user's selection to the computer player's selection, and determine which is the winner. The following logic should govern that determination:\n",
        "\n",
        "  1. Rock beats Scissors\n",
        "  2. Paper beats Rock\n",
        "  3. Scissors beats Paper\n",
        "  4. Rock vs Rock, Paper vs Paper, and Scissors vs Scissors each results in a \"tie\"\n",
        "\n",
        "> HINT: use one or more [`if` statements](https://github.com/prof-rossetti/intro-to-python/blob/main/notes/python/control-flow.md#if-statements) (recommended approach for beginners), or it may also be possible to use other pre-configured representations of the winners, for example using a [dictionary datatype](https://github.com/prof-rossetti/intro-to-python/blob/main/notes/python/datatypes/dictionaries.md)  containing all possible outcomes.\n",
        "\n"
      ],
      "metadata": {
        "id": "lzvQeH2OS-y-"
      }
    },
    {
      "cell_type": "markdown",
      "source": [
        "### Displaying Results\n"
      ],
      "metadata": {
        "id": "vrAcJg4KRnVr"
      }
    },
    {
      "cell_type": "markdown",
      "source": [
        "\n",
        "After determining the winner, the application should display the results to the user. Desired information outputs (from start to finish) should include at least the following:\n",
        "\n",
        "  + A friendly welcome message, including the player's name (e.g. \"Player One\").\n",
        "  + The user's selected option\n",
        "  + The computer's selected option\n",
        "  + Whether the user or the computer was the winner\n",
        "  + A friendly farewell message\n",
        "\n",
        "Example desired output after one round of game-play:\n",
        "\n",
        "```\n",
        "Welcome 'Player One' to my Rock-Paper-Scissors Game!\n",
        "---------\n",
        "Please choose an option ('rock', 'paper', or 'scissors'): rock\n",
        "---------\n",
        "User choice: 'rock'\n",
        "---------\n",
        "Computer choice: 'scissors'\n",
        "---------\n",
        "You won! Thanks for playing.\n",
        "```\n"
      ],
      "metadata": {
        "id": "MOKoZt0oRnYe"
      }
    },
    {
      "cell_type": "markdown",
      "source": [
        "## Evaluation\n"
      ],
      "metadata": {
        "id": "GWj6HNQQSzZA"
      }
    },
    {
      "cell_type": "markdown",
      "source": [
        "Submissions will be evaluated according to the \"Requirements\" section below, as represented by the following rubric:\n",
        "\n",
        "Category | Requirement | Weight\n",
        "--- | --- | ---\n",
        "Info Inputs | Prompts the user to input their player name via notebook secrets, and reads the value from notebook secrets. | 10%\n",
        "Info Inputs | Prompts the user to input / select a choice from one of \"rock\", \"paper\", or \"scissors\". | 15%\n",
        "Validations | Handles user inputs of various capitalization (i.e. recognizes \"rock\", \"Rock\", \"ROCK\", \"RoCk\", etc. as valid inputs). | 15%\n",
        "Validations | Fails gracefully if encountering an invalid user input (i.e. program does not crash or malfunction if user provides an invalid input, like \"OOPS\"). Avoids a red / crashed cell. | 15%\n",
        "Simulation | Generates a valid choice at random for the computer player. | 15%\n",
        "Calculations | Displays accurate information about which player is the winner. | 15%\n",
        "Info Outputs | Presents all desired information outputs to the user, ideally in a clear way with clean formatting. | 15%\n",
        "\n",
        "This rubric is tentative, and may be subject to slight adjustments during the grading process.\n",
        "\n",
        "If experiencing execution error(s) while evaluating the application's required functionality, evaluators are advised to reduce the project's grade by between 4% and 25%, depending on the circumstances and severity of the error(s)."
      ],
      "metadata": {
        "id": "ME5s2Ek6S1Dd"
      }
    },
    {
      "cell_type": "markdown",
      "source": [
        "### Further Exploration (Game Loop Challenges)\n",
        "\n",
        "+10%: For extra credit, also implement a game loop that asks the user whether they'd like to play again. If they say \"yes\", play the game again, otherwise stop. The user should be able to play as many games as they want.\n",
        "\n",
        "> HINT: use an infinite `while` loop!\n",
        "\n",
        "+10%: For maximum challenge and maximum bonus points, also keep track of how many games have been played, and how many games have been won, and once the user elects to stop playing, display their win percentage.\n",
        "\n",
        "> HINT: use a counter approach\n"
      ],
      "metadata": {
        "id": "8JGlwWwEUIeK"
      }
    },
    {
      "cell_type": "markdown",
      "source": [
        "## Solution\n",
        "\n"
      ],
      "metadata": {
        "id": "X5X7eG8qTGWG"
      }
    },
    {
      "cell_type": "markdown",
      "source": [
        "Instructions to User:\n",
        "\n",
        "  1. First, set your username as a notebook secret called `PLAYER_NAME`, using the Colab notebook secrets menu in the left sidebar.\n",
        "\n",
        "  2. Then run the cell below to play the game."
      ],
      "metadata": {
        "id": "jAVKPyokIGln"
      }
    },
    {
      "cell_type": "code",
      "source": [
        "# NOTE: ALL GAME CODE SHOULD GO IN THIS SINGLE CELL!\n",
        "\n",
        "#importing\n",
        "import random\n",
        "from google.colab import userdata\n",
        "\n",
        "#defining\n",
        "player_name = userdata.get('PLAYER_NAME')\n",
        "total_games = 0\n",
        "games_won = 0\n",
        "\n",
        "#randomizing the computer choices\n",
        "def comp():\n",
        "    options = ['rock', 'paper', 'scissors']\n",
        "    return random.choice(options)\n",
        "\n",
        "#selecting the winner\n",
        "def winner(user_choice, computer_choice):\n",
        "    if user_choice == computer_choice:\n",
        "        return \"tie\"\n",
        "    elif (user_choice == 'rock' and computer_choice == 'scissors') or \\\n",
        "         (user_choice == 'scissors' and computer_choice == 'paper') or \\\n",
        "         (user_choice == 'paper' and computer_choice == 'rock'):\n",
        "        return \"win\"\n",
        "    else:\n",
        "        return \"loss\"\n",
        "\n",
        "#The game\n",
        "while True:\n",
        "    print(f\"Welcome '{player_name}' to my Rock-Paper-Scissors Game!\")\n",
        "    print(\"---------\")\n",
        "    user_choice = input(\"Please choose an option ('rock', 'paper', or 'scissors'): \").lower()\n",
        "\n",
        "    if user_choice not in ['rock', 'paper', 'scissors']:\n",
        "        print(f\"OOPS!, Invalid choice! Please '{player_name}' select 'rock', 'paper', or 'scissors'.\")\n",
        "        continue\n",
        "\n",
        "    print(\"---------\")\n",
        "    print(f\"'{player_name}' choice: '{user_choice}'\")\n",
        "\n",
        "    computer_choice = comp()\n",
        "    print(f\"---------\\nComputer choice: '{computer_choice}'\\n---------\")\n",
        "\n",
        "    result = winner(user_choice, computer_choice)\n",
        "\n",
        "    if result == \"win\":\n",
        "        games_won += 1\n",
        "        print(\"You won! Thanks for playing.\")\n",
        "    elif result == \"loss\":\n",
        "        print(\"You lost! Better luck next time.\")\n",
        "    else:\n",
        "        print(\"It's a tie! No one wins.\")\n",
        "\n",
        "    total_games += 1\n",
        "\n",
        "    play_again = input(\"Do you want to play again? (yes/no)): \").lower()\n",
        "    if play_again != 'yes':\n",
        "        break\n",
        "\n",
        "#displaying the results\n",
        "if total_games > 0:\n",
        "    win_percentage = (games_won / total_games) * 100\n",
        "    print(f\"\\nThanks for playing, {player_name}! You played {total_games} games and won {games_won} of them.\")\n",
        "    print(f\"\\nYour win percentage is {win_percentage}\")\n"
      ],
      "metadata": {
        "id": "L26qgTqHztqr",
        "colab": {
          "base_uri": "https://localhost:8080/"
        },
        "outputId": "4e1deda1-e8af-46b5-b0ba-8c931b925d51"
      },
      "execution_count": null,
      "outputs": [
        {
          "output_type": "stream",
          "name": "stdout",
          "text": [
            "Welcome 'TODO' to my Rock-Paper-Scissors Game!\n",
            "---------\n",
            "Please choose an option ('rock', 'paper', or 'scissors'): rock\n",
            "---------\n",
            "'TODO' choice: 'rock'\n",
            "---------\n",
            "Computer choice: 'paper'\n",
            "---------\n",
            "You lost! Better luck next time.\n",
            "Do you want to play again? (yes/no)): yes\n",
            "Welcome 'TODO' to my Rock-Paper-Scissors Game!\n",
            "---------\n",
            "Please choose an option ('rock', 'paper', or 'scissors'): r\n",
            "OOPS!, Invalid choice! Please 'TODO' select 'rock', 'paper', or 'scissors'.\n",
            "Welcome 'TODO' to my Rock-Paper-Scissors Game!\n",
            "---------\n",
            "Please choose an option ('rock', 'paper', or 'scissors'): rock\n",
            "---------\n",
            "'TODO' choice: 'rock'\n",
            "---------\n",
            "Computer choice: 'rock'\n",
            "---------\n",
            "It's a tie! No one wins.\n",
            "Do you want to play again? (yes/no)): yes\n",
            "Welcome 'TODO' to my Rock-Paper-Scissors Game!\n",
            "---------\n",
            "Please choose an option ('rock', 'paper', or 'scissors'): PAPER\n",
            "---------\n",
            "'TODO' choice: 'paper'\n",
            "---------\n",
            "Computer choice: 'paper'\n",
            "---------\n",
            "It's a tie! No one wins.\n",
            "Do you want to play again? (yes/no)): n\n",
            "\n",
            "Thanks for playing, TODO! You played 3 games and won 0 of them.\n",
            "\n",
            "Your win percentage is 0.0\n"
          ]
        }
      ]
    },
    {
      "cell_type": "markdown",
      "source": [
        "## Scratch Work\n",
        "\n",
        "Feel free to use the section below for scratch work, which will not be evaluated.\n",
        "\n",
        "If there is any solution code make sure to include it in the \"Solution\" section above instead!"
      ],
      "metadata": {
        "id": "qnlJVq8VYEKI"
      }
    },
    {
      "cell_type": "code",
      "source": [
        "import random\n",
        "import os"
      ],
      "metadata": {
        "id": "ITePMxshYPQe"
      },
      "execution_count": null,
      "outputs": []
    },
    {
      "cell_type": "code",
      "source": [
        "def comp_choice():\n",
        "    option=['rock','paper', 'scissor']\n",
        "    return random.choice(option)"
      ],
      "metadata": {
        "id": "nPobMM5JYuYB"
      },
      "execution_count": null,
      "outputs": []
    },
    {
      "cell_type": "code",
      "source": [
        "while True:\n",
        "        print(f\"Welcome '{player_name}' to my Rock-Paper-Scissors Game!\")\n",
        "        print(\"---------\")\n",
        "        user_choice = input(\"Please choose an option ('rock', 'paper', or 'scissors'): \").lower()\n",
        "\n",
        "        if user_choice not in ['rock', 'paper', 'scissors']:\n",
        "            print(\"Invalid choice! Please select 'rock', 'paper', or 'scissors'.\")\n",
        "            continue\n",
        "\n",
        "        print(\"---------\")\n",
        "        print(f\"User choice: '{user_choice}'\")\n",
        "\n",
        "        computer_choice = get_computer_choice()\n",
        "        print(f\"---------\\nComputer choice: '{computer_choice}'\\n---------\")"
      ],
      "metadata": {
        "colab": {
          "base_uri": "https://localhost:8080/"
        },
        "id": "52WzmrwbrFJI",
        "outputId": "7ab010de-aa4d-4f99-9dcd-8943ba9e71af"
      },
      "execution_count": null,
      "outputs": [
        {
          "output_type": "stream",
          "name": "stdout",
          "text": [
            "Welcome 'todo' to my Rock-Paper-Scissors Game!\n",
            "---------\n",
            "Please choose an option ('rock', 'paper', or 'scissors'): rocks\n",
            "Invalid choice! Please select 'rock', 'paper', or 'scissors'.\n",
            "Welcome 'todo' to my Rock-Paper-Scissors Game!\n",
            "---------\n",
            "Please choose an option ('rock', 'paper', or 'scissors'): scissors\n",
            "---------\n",
            "User choice: 'scissors'\n",
            "---------\n",
            "Computer choice: 'paper'\n",
            "---------\n",
            "Welcome 'todo' to my Rock-Paper-Scissors Game!\n",
            "---------\n"
          ]
        },
        {
          "output_type": "stream",
          "name": "stderr",
          "text": [
            "ERROR:root:Internal Python error in the inspect module.\n",
            "Below is the traceback from this internal error.\n",
            "\n",
            "\n",
            "KeyboardInterrupt\n",
            "\n"
          ]
        }
      ]
    }
  ]
}