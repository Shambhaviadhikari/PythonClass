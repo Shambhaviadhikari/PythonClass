{
  "nbformat": 4,
  "nbformat_minor": 0,
  "metadata": {
    "colab": {
      "provenance": [],
      "include_colab_link": true
    },
    "kernelspec": {
      "name": "python3",
      "display_name": "Python 3"
    },
    "language_info": {
      "name": "python"
    }
  },
  "cells": [
    {
      "cell_type": "markdown",
      "metadata": {
        "id": "view-in-github",
        "colab_type": "text"
      },
      "source": [
        "<a href=\"https://colab.research.google.com/github/Shambhaviadhikari/PythonClass/blob/main/Copy_of_Market_Sentiments_API_Challenge_(Fall_2024)_%5BG37903602%5D.ipynb\" target=\"_parent\"><img src=\"https://colab.research.google.com/assets/colab-badge.svg\" alt=\"Open In Colab\"/></a>"
      ]
    },
    {
      "cell_type": "markdown",
      "source": [
        "## Instructions"
      ],
      "metadata": {
        "id": "MDICBA7uvnoJ"
      }
    },
    {
      "cell_type": "markdown",
      "source": [
        "For this exercise, we will request news sentiment data about a given company from the AlphaVantage API, and then display a news feed of articles that are relevant to that company.\n",
        "\n",
        "\n",
        "It may be helpful to take a few minutes to consult the documentation for the [News and Sentiments API endpoint](https://www.alphavantage.co/documentation/#news-sentiment) to learn more, and make a plan, before developing a solution.\n",
        "\n",
        "First develop your solution in a step by step way, using the \"Scratch Work\" section at the bottom (which will not be evaluated). Then when you are satisfied, return to implement your final code in the \"Solution\" section, within a custom function that is invoked within the context of a dashboard-style interface.\n",
        "\n",
        "\n"
      ],
      "metadata": {
        "id": "AfqHoHor_3ED"
      }
    },
    {
      "cell_type": "markdown",
      "source": [
        "## Requirements"
      ],
      "metadata": {
        "id": "ggI1E00LBGDZ"
      }
    },
    {
      "cell_type": "markdown",
      "source": [
        "\n",
        "Define a function called `display_articles`. The function should accept a string parameter called `symbol` and a float parameter called `min_relevance` (a value between 0 and 1). The default values for these parameters should be \"NFLX\" and 0.5, respectively.\n",
        "\n",
        "When invoked (including from the \"Stocks Selection Form\"), the function should:\n",
        "\n",
        "  + A) fetch news sentiments data about the given company, and\n",
        "  + B) display information about only the relevant articles (i.e. **only those articles that have a ticker-specific relevance score greater than the specified minimum value**).\n",
        "\n",
        "For any article that meets the criteria, the function should specifically display the following information about that article:\n",
        "\n",
        "  + **Title**\n",
        "  + **Source**\n",
        "  + **Author** (just the first one is fine)\n",
        "  + **Image** (ideally displayed using [`IPython.display`](https://github.com/prof-rossetti/intro-to-python/blob/main/notes/python/packages/ipython.md#displaying-images))\n",
        "  + **Summary**\n",
        "  + **URL**\n",
        "  + **Ticker-Specific Sentiment Score** (for the selected company only)\n",
        "  + **Ticker-Specific Relevance Score** (for the selected company only)\n",
        "\n"
      ],
      "metadata": {
        "id": "NPZ2xMKYBHkF"
      }
    },
    {
      "cell_type": "markdown",
      "source": [
        "\n",
        "Here is an example output:\n",
        "\n",
        "<img height=\"400\" alt=\"Screenshot 2023-09-25 at 4 41 20 PM\" src=\"https://github.com/prof-rossetti/intro-to-python/assets/1328807/1a9caf8a-e31c-49e6-add8-89ac50a4b9b6\">\n",
        "\n",
        "> NOTE: your results will look different depending on when you run the dashboard"
      ],
      "metadata": {
        "id": "YjCWJrhZE_Yu"
      }
    },
    {
      "cell_type": "markdown",
      "source": [
        "## Evaluation"
      ],
      "metadata": {
        "id": "EAlBKEed8iST"
      }
    },
    {
      "cell_type": "markdown",
      "source": [
        "Submissions will be evaluated according to the \"Requirements\" section below, as represented by the following rubric:\n",
        "\n",
        "Category | Requirement | Weight\n",
        "--- | --- | ---\n",
        "Security | Securely handles the API Key. Avoids exposure by asking for a secure input, and avoids printing or hard-coding the key. | 20%\n",
        "Function | Function works properly and all solution code is packaged inside. | 25%\n",
        "Info Outputs | Presents all desired article summary information, ideally in a clear way with clean formatting. | 40%\n",
        "Info Outputs | Displays article images, as applicable | 10%\n",
        "\n",
        "This rubric is tentative, and may be subject to slight adjustments during the grading process.\n",
        "\n",
        "If experiencing execution error(s) while evaluating the application's required functionality, evaluators are advised to reduce the project's grade by between 4% and 25%, depending on the circumstances and severity of the error(s).\n",
        "\n"
      ],
      "metadata": {
        "id": "yJosJ5Qv8kj8"
      }
    },
    {
      "cell_type": "markdown",
      "source": [
        "## Setup\n"
      ],
      "metadata": {
        "id": "OIH1FeThxMn_"
      }
    },
    {
      "cell_type": "markdown",
      "source": [
        "### API Key\n"
      ],
      "metadata": {
        "id": "msvuiCfV_Rlq"
      }
    },
    {
      "cell_type": "markdown",
      "source": [
        "\n",
        "\n",
        "Obtain a free AlphaVantage API Key, or use one of the prof's premium keys, and set it as a notebook secret called \"ALPHAVANTAGE_API_KEY\".  \n",
        "\n",
        "Your code should reference this `API_KEY` variable when making requests."
      ],
      "metadata": {
        "id": "E7LM9kwAiZKj"
      }
    },
    {
      "cell_type": "code",
      "source": [
        "from google.colab import userdata\n",
        "\n",
        "API_KEY = userdata.get(\"ALPHAVANTAGE_API_KEY\")"
      ],
      "metadata": {
        "id": "volez18go4Xw"
      },
      "execution_count": null,
      "outputs": []
    },
    {
      "cell_type": "markdown",
      "source": [
        "\n",
        "## Solution"
      ],
      "metadata": {
        "id": "8x6uXETRmZu9"
      }
    },
    {
      "cell_type": "markdown",
      "source": [
        "\n",
        "> NOTE: Only the code in this solution section will be evaluated. All solution code needs to be packaged inside the function so that it is executed when the function is invoked!\n"
      ],
      "metadata": {
        "id": "wceut1AizhXQ"
      }
    },
    {
      "cell_type": "code",
      "source": [
        "import requests\n",
        "from IPython.display import display, Image\n",
        "\n",
        "def display_articles(symbol=\"GOOG\", min_relevance=0.5):\n",
        "\n",
        "    # request URL\n",
        "    url = f\"https://www.alphavantage.co/query?function=NEWS_SENTIMENT&tickers={symbol}&apikey={API_KEY}\"\n",
        "\n",
        "    # Fetch data from the API\n",
        "    try:\n",
        "        response = requests.get(url)\n",
        "        data = response.json()\n",
        "    except Exception as e:\n",
        "        print(f\"Error fetching data: {e}\")\n",
        "        return\n",
        "\n",
        "\n",
        "    if \"feed\" not in data:\n",
        "        print(\"No articles found for the given company.\")\n",
        "        return\n",
        "\n",
        "    articles = data[\"feed\"]\n",
        "\n",
        "    # Loop\n",
        "    relevant_articles = []\n",
        "\n",
        "    for article in articles:\n",
        "\n",
        "        ticker_info = next((item for item in article[\"ticker_sentiment\"] if item[\"ticker\"] == symbol), None)\n",
        "\n",
        "        if ticker_info:\n",
        "            sentiment_score = float(ticker_info[\"ticker_sentiment_score\"])\n",
        "            relevance_score = float(ticker_info[\"relevance_score\"])\n",
        "\n",
        "\n",
        "            if relevance_score >= min_relevance:\n",
        "                relevant_articles.append({\n",
        "                    \"title\": article.get(\"title\", \"No title available\"),\n",
        "                    \"source\": article.get(\"source\", \"Unknown Source\"),\n",
        "                    \"author\": article.get(\"authors\", [\"Unknown Author\"])[0] if article.get(\"authors\") else \"Unknown Author\",\n",
        "                    \"relevance\": relevance_score,\n",
        "                    \"sentiment\": sentiment_score,\n",
        "                    \"url\": article.get(\"url\", \"No URL available\"),\n",
        "                    \"summary\": article.get(\"summary\", \"No summary available\"),\n",
        "                    \"image_url\": article.get(\"banner_image\", \"\")\n",
        "                })\n",
        "\n",
        "    return relevant_articles\n",
        "\n",
        "\n",
        "#@markdown Select a stock and a minimum relevance threshold. Then run the cell to display news articles relevant to that company.\n",
        "\n",
        "symbol = \"NFLX\"  #@param ['AAPL', 'GOOG', 'MSFT', 'NFLX']\n",
        "min_relevance = 0.7  #@param {type: \"slider\", min: 0, max: 1, step: 0.1}\n",
        "\n",
        "articles_to_display = display_articles(symbol=symbol, min_relevance=min_relevance)\n",
        "\n",
        "# Display the articles\n",
        "if articles_to_display:\n",
        "    for article in articles_to_display:\n",
        "        print(f\"----------------------\")\n",
        "        if article[\"image_url\"]:\n",
        "            display(Image(url=article[\"image_url\"]))\n",
        "        print(f\"TITLE: {article['title']}\")\n",
        "        print(f\"SOURCE: {article['source']}\")\n",
        "        print(f\"AUTHOR: {article['author']}\")\n",
        "        print(f\"RELEVANCE: {article['relevance']}\")\n",
        "        print(f\"SENTIMENT: {article['sentiment']} ({'Neutral' if article['sentiment'] == 0 else ('Bullish' if article['sentiment'] > 0 else 'Bearish')})\")\n",
        "        print(f\"URL: {article['url']}\")\n",
        "        print(f\"SUMMARY: {article['summary']}\")\n",
        "        print(f\"----------------------\")\n",
        "else:\n",
        "    print(\"No articles meet the relevance threshold.\")\n"
      ],
      "metadata": {
        "id": "XAg8z2xnpcCz",
        "colab": {
          "base_uri": "https://localhost:8080/",
          "height": 1000
        },
        "outputId": "0b1f88ed-4e84-4d3e-82a3-36cce54b91f4"
      },
      "execution_count": null,
      "outputs": [
        {
          "output_type": "stream",
          "name": "stdout",
          "text": [
            "----------------------\n"
          ]
        },
        {
          "output_type": "display_data",
          "data": {
            "text/html": [
              "<img src=\"https://cdn.benzinga.com/files/images/story/2024/10/07/10-Trending-On-Netflix-Shows-To-Watch-Th.jpeg?width=1200&height=800&fit=crop\"/>"
            ],
            "text/plain": [
              "<IPython.core.display.Image object>"
            ]
          },
          "metadata": {}
        },
        {
          "output_type": "stream",
          "name": "stdout",
          "text": [
            "TITLE: What's Going On With Netflix Stock Monday? - Netflix  ( NASDAQ:NFLX ) \n",
            "SOURCE: Benzinga\n",
            "AUTHOR: Adam Eckert\n",
            "RELEVANCE: 0.809372\n",
            "SENTIMENT: 0.463181 (Bullish)\n",
            "URL: https://www.benzinga.com/news/24/10/41214653/whats-going-on-with-netflix-stock-monday\n",
            "SUMMARY: Netflix Inc NFLX shares are trading lower Monday as several analysts weigh in on the entertainment giant ahead of earnings next week. Much of the weakness appears to be due to a downgrade from Barclays.\n",
            "----------------------\n",
            "----------------------\n"
          ]
        },
        {
          "output_type": "display_data",
          "data": {
            "text/html": [
              "<img src=\"https://cdn.benzinga.com/files/images/story/2024/10/07/Netflix-Inc-.jpeg?width=1200&height=800&fit=crop\"/>"
            ],
            "text/plain": [
              "<IPython.core.display.Image object>"
            ]
          },
          "metadata": {}
        },
        {
          "output_type": "stream",
          "name": "stdout",
          "text": [
            "TITLE: Netflix Analysts Turn More Optimistic Ahead Of Earnings: 'Expensive For A Reason' - Netflix  ( NASDAQ:NFLX ) \n",
            "SOURCE: Benzinga\n",
            "AUTHOR: Adam Eckert\n",
            "RELEVANCE: 0.791422\n",
            "SENTIMENT: 0.489136 (Bullish)\n",
            "URL: https://www.benzinga.com/analyst-ratings/analyst-color/24/10/41209970/netflix-analysts-turn-more-optimistic-ahead-of-earnings-expensive-for-a-reason\n",
            "SUMMARY: A pair of Netflix Inc NFLX analysts are out with positive updates ahead of the entertainment giant's earnings report next week. The calls focused on valuation, with one analyst being notably more optimistic than the other.\n",
            "----------------------\n",
            "----------------------\n"
          ]
        },
        {
          "output_type": "display_data",
          "data": {
            "text/html": [
              "<img src=\"https://g.foolcdn.com/image/?url=https%3A%2F%2Fg.foolcdn.com%2Feditorial%2Fimages%2F789468%2Fnetflix-nflx-stock-split-investment.jpg&op=resize&w=700\"/>"
            ],
            "text/plain": [
              "<IPython.core.display.Image object>"
            ]
          },
          "metadata": {}
        },
        {
          "output_type": "stream",
          "name": "stdout",
          "text": [
            "TITLE: Stock-Split Watch: Is Netflix Next?\n",
            "SOURCE: Motley Fool\n",
            "AUTHOR: Jake Lerch\n",
            "RELEVANCE: 0.737923\n",
            "SENTIMENT: 0.027637 (Bullish)\n",
            "URL: https://www.fool.com/investing/2024/10/03/stock-split-watch-is-netflix-next/\n",
            "SUMMARY: Stock split or not, Netflix stock could be worth considering.\n",
            "----------------------\n"
          ]
        }
      ]
    },
    {
      "cell_type": "code",
      "source": [],
      "metadata": {
        "id": "67Vvgq9VqP56"
      },
      "execution_count": null,
      "outputs": []
    },
    {
      "cell_type": "markdown",
      "source": [
        "### Stock Selection Form"
      ],
      "metadata": {
        "id": "frkQ-V4NxBR6"
      }
    },
    {
      "cell_type": "code",
      "source": [
        "#@markdown Select a stock and a minimum relevance threshold. Then run the cell to display news artices relevant to that company.\n",
        "\n",
        "symbol = \"MSFT\"  #@param ['AAPL', 'GOOG', 'MSFT', 'NFLX']\n",
        "\n",
        "min_relevance = 0.2  #@param {type: \"slider\", min: 0, max: 1, step: 0.1}\n",
        "\n",
        "display_articles(symbol=symbol, min_relevance=min_relevance)"
      ],
      "metadata": {
        "id": "Zm28YXBAo71-"
      },
      "execution_count": null,
      "outputs": []
    },
    {
      "cell_type": "markdown",
      "source": [
        "## Scratch Work"
      ],
      "metadata": {
        "id": "jy0_dkxerqQd"
      }
    },
    {
      "cell_type": "markdown",
      "source": [
        "Feel free to use the section below for scratch work, which will not be evaluated.\n",
        "\n",
        "If there is any solution code make sure to include it in the \"Solution\" section above instead!"
      ],
      "metadata": {
        "id": "ljz1uhFKBtFt"
      }
    },
    {
      "cell_type": "markdown",
      "source": [
        "\n",
        "A) Ask the user to input a stock symbol (i.e. \"NFLX\") and store it in a variable called `symbol`. Then print the selected symbol. Assume the user inputs a valid symbol (i.e. no need for validations).\n"
      ],
      "metadata": {
        "id": "jpkyjKg1juYm"
      }
    },
    {
      "cell_type": "code",
      "source": [],
      "metadata": {
        "id": "RNpNXTEWrxO8"
      },
      "execution_count": null,
      "outputs": []
    },
    {
      "cell_type": "code",
      "source": [
        "# Ask the user for a stock symbol\n",
        "symbol = input(\"Please enter a stock symbol (e.g., NFLX): \")\n",
        "\n",
        "# Print the selected symbol\n",
        "print(\"Selected Stock Symbol:\", symbol)\n"
      ],
      "metadata": {
        "id": "CZNNfVhdjttO",
        "colab": {
          "base_uri": "https://localhost:8080/"
        },
        "outputId": "d27aa36b-54c1-4e31-d34a-ad5202e45cab"
      },
      "execution_count": null,
      "outputs": [
        {
          "output_type": "stream",
          "name": "stdout",
          "text": [
            "Please enter a stock symbol (e.g., NFLX): NFLX\n",
            "Selected Stock Symbol: NFLX\n"
          ]
        }
      ]
    },
    {
      "cell_type": "code",
      "source": [],
      "metadata": {
        "id": "PLa2Q48Jk7Z0"
      },
      "execution_count": null,
      "outputs": []
    },
    {
      "cell_type": "markdown",
      "source": [
        "B) After consulting the API docs, find the desired request URL for Market News and Sentiments, and create a string variable called `request_url` to represent this URL. Use string concatenation or a format string to join the `symbol` variable from Part A with the prodived `API_KEY` variable from the setup cell. Assume the user has input a valid API Key (i.e. no need for validations).\n",
        "\n",
        "> NOTE: To include news across all categories, let's not supply any topic related parameters in our requests. The only URL parameters we should need are `function` and `tickers` and `apikey` (ignore all other params). See example provided below."
      ],
      "metadata": {
        "id": "R7GTe028jv1G"
      }
    },
    {
      "cell_type": "code",
      "source": [
        "# Part B: Retrieve the API key from Colab secrets\n",
        "from google.colab import userdata\n",
        "API_KEY = userdata.get(\"ALPHAVANTAGE_API_KEY\")\n",
        "\n",
        "# Construct the request URL for Market News and Sentiments\n",
        "request_url = f\"https://www.alphavantage.co/query?function=NEWS_SENTIMENT&tickers={symbol}&apikey={API_KEY}\"\n",
        "\n",
        "# Print the selected symbol and the request URL\n",
        "print(\"Selected Stock Symbol:\", symbol)\n",
        "print(\"Request URL:\", request_url)"
      ],
      "metadata": {
        "colab": {
          "base_uri": "https://localhost:8080/"
        },
        "id": "Tr6caNo_9_Ch",
        "outputId": "a1eed01f-9390-46d3-fad9-8803300e13da"
      },
      "execution_count": null,
      "outputs": [
        {
          "output_type": "stream",
          "name": "stdout",
          "text": [
            "Selected Stock Symbol: NFLX\n",
            "Request URL: https://www.alphavantage.co/query?function=NEWS_SENTIMENT&tickers=NFLX&apikey=OPEKNZB4Q8AUFTDY\n"
          ]
        }
      ]
    },
    {
      "cell_type": "code",
      "source": [],
      "metadata": {
        "id": "tSszXo9Mk60B"
      },
      "execution_count": null,
      "outputs": []
    },
    {
      "cell_type": "markdown",
      "source": [
        "\n",
        "C) Using the `request_url` variable from Part B, make an HTTP request for the market news and sentiments about the given company, and store the  response in a variable called `response`. Then convert the resulting JSON-formatted response data into a Python variable called `data`. Access the \"feed\" property of the data and store this in a variable called `articles`. Then print the number of articles (i.e. 50).\n"
      ],
      "metadata": {
        "id": "mYyjmmlUjxPE"
      }
    },
    {
      "cell_type": "code",
      "source": [
        "import requests\n",
        "\n",
        "# Part C: Make an HTTP request to fetch the news and sentiment data\n",
        "response = requests.get(request_url)\n",
        "\n",
        "# Convert the JSON-formatted response data into a Python dictionary\n",
        "data = response.json()\n",
        "\n",
        "# Access the \"feed\" property of the data and store it in a variable called articles\n",
        "articles = data.get(\"feed\", [])\n",
        "\n",
        "# Print the number of articles\n",
        "print(f\"Number of articles found: {len(articles)}\")\n"
      ],
      "metadata": {
        "colab": {
          "base_uri": "https://localhost:8080/"
        },
        "id": "27M1J0di-FEq",
        "outputId": "6ecb6c2f-bb3a-41bc-aa2a-6579af629a87"
      },
      "execution_count": null,
      "outputs": [
        {
          "output_type": "stream",
          "name": "stdout",
          "text": [
            "Number of articles found: 50\n"
          ]
        }
      ]
    },
    {
      "cell_type": "markdown",
      "source": [
        "\n",
        "\n",
        "\n",
        "\n",
        "\n",
        "D) Loop through the first three articles and print the following information about each:\n",
        "  + **Title**\n",
        "  + **Author** (just the first one is fine)\n",
        "  + **Image** (ideally displayed using [`IPython.display`](https://github.com/prof-rossetti/intro-to-python/blob/main/notes/python/packages/ipython.md#displaying-images))\n",
        "  + **Summary**\n",
        "  + **URL**\n",
        "  + **Ticker-Specific Sentiment Score** (for the selected company only)\n",
        "  + **Ticker-Specific Relevance Score** (for the selected company only)\n",
        "\n"
      ],
      "metadata": {
        "id": "V6wchUMeiEtK"
      }
    },
    {
      "cell_type": "code",
      "source": [],
      "metadata": {
        "id": "CN-Pu-8C-_pU"
      },
      "execution_count": null,
      "outputs": []
    },
    {
      "cell_type": "code",
      "source": [],
      "metadata": {
        "id": "Tpt6oBAI-_si"
      },
      "execution_count": null,
      "outputs": []
    },
    {
      "cell_type": "code",
      "source": [
        "from IPython.display import Image, display\n"
      ],
      "metadata": {
        "id": "TpVpgSPJvEJZ"
      },
      "execution_count": null,
      "outputs": []
    },
    {
      "cell_type": "markdown",
      "source": [
        "\n",
        "E) Let's only display information for articles that have a high relevance for this company (i.e. those with a ticker-specific relevance score greater than 50%). Use a filter operation to display information about only the articles that meet this criteria.\n",
        "\n",
        "> NOTE: the API docs mention a parameter related to relevance, however let's ignore this and use the same data that was previously requested.\n",
        "\n"
      ],
      "metadata": {
        "id": "GuCvkfq1j0Ep"
      }
    },
    {
      "cell_type": "code",
      "source": [],
      "metadata": {
        "id": "IDErMSZ6-83E"
      },
      "execution_count": null,
      "outputs": []
    }
  ]
}