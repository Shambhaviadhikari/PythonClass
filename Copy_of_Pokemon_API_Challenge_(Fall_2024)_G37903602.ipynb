{
  "nbformat": 4,
  "nbformat_minor": 0,
  "metadata": {
    "colab": {
      "provenance": [],
      "include_colab_link": true
    },
    "kernelspec": {
      "name": "python3",
      "display_name": "Python 3"
    },
    "language_info": {
      "name": "python"
    }
  },
  "cells": [
    {
      "cell_type": "markdown",
      "metadata": {
        "id": "view-in-github",
        "colab_type": "text"
      },
      "source": [
        "<a href=\"https://colab.research.google.com/github/Shambhaviadhikari/PythonClass/blob/main/Copy_of_Pokemon_API_Challenge_(Fall_2024)_G37903602.ipynb\" target=\"_parent\"><img src=\"https://colab.research.google.com/assets/colab-badge.svg\" alt=\"Open In Colab\"/></a>"
      ]
    },
    {
      "cell_type": "markdown",
      "source": [
        "\n",
        "\n",
        "# Background\n",
        "\n",
        "Pokemon is a popular video game and cartoon show.\n",
        "\n",
        "For this API Challenge, we will explore the capabilities of the Poke API, which provides access to Pokemon game data:\n",
        "  + https://pokeapi.co/\n",
        "  + https://pokeapi.co/docs/v2\n",
        "\n",
        "> \"This is a full RESTful API linked to an extensive database detailing everything about the Pokémon main game series. We've covered everything from Pokémon to Berry Flavors.\"\n"
      ],
      "metadata": {
        "id": "N74MKE724naZ"
      }
    },
    {
      "cell_type": "code",
      "execution_count": null,
      "metadata": {
        "colab": {
          "base_uri": "https://localhost:8080/",
          "height": 125
        },
        "id": "73ZrIWiKwjbv",
        "outputId": "7182ac4e-1d77-416f-fb0f-d4b6e79cde4a"
      },
      "outputs": [
        {
          "output_type": "display_data",
          "data": {
            "text/html": [
              "<img src=\"https://pokeapi.co/static/pokeapi_256.3fa72200.png\"/>"
            ],
            "text/plain": [
              "<IPython.core.display.Image object>"
            ]
          },
          "metadata": {}
        }
      ],
      "source": [
        "from IPython.display import Image, Audio, display\n",
        "\n",
        "display(Image(url=\"https://pokeapi.co/static/pokeapi_256.3fa72200.png\"))"
      ]
    },
    {
      "cell_type": "code",
      "source": [
        "display(Image(url=\"https://raw.githubusercontent.com/PokeAPI/sprites/master/sprites/pokemon/25.png\"))\n",
        "Audio(url=\"https://raw.githubusercontent.com/PokeAPI/cries/main/cries/pokemon/latest/25.ogg\")"
      ],
      "metadata": {
        "colab": {
          "base_uri": "https://localhost:8080/",
          "height": 176
        },
        "id": "k6ouxmHpwn0G",
        "outputId": "faf07689-9da8-4151-8804-7c996f547b56"
      },
      "execution_count": null,
      "outputs": [
        {
          "output_type": "display_data",
          "data": {
            "text/html": [
              "<img src=\"https://raw.githubusercontent.com/PokeAPI/sprites/master/sprites/pokemon/25.png\"/>"
            ],
            "text/plain": [
              "<IPython.core.display.Image object>"
            ]
          },
          "metadata": {}
        },
        {
          "output_type": "execute_result",
          "data": {
            "text/plain": [
              "<IPython.lib.display.Audio object>"
            ],
            "text/html": [
              "\n",
              "                <audio  controls=\"controls\" >\n",
              "                    <source src=\"https://raw.githubusercontent.com/PokeAPI/cries/main/cries/pokemon/latest/25.ogg\" type=\"audio/ogg\" />\n",
              "                    Your browser does not support the audio element.\n",
              "                </audio>\n",
              "              "
            ]
          },
          "metadata": {},
          "execution_count": 2
        }
      ]
    },
    {
      "cell_type": "markdown",
      "source": [
        "\n",
        "# Challenges\n",
        "\n",
        "Our goal is to build a pokemon information lookup tool, to help pokemon trainers make data-driven decisions when battling and raising their pokemon.\n",
        "\n",
        "Basic Requirements:\n",
        "\n",
        "  + In Part 1, we will fetch and display a list of all pokemon characters.\n",
        "\n",
        "  + In Part 2, we will ask the user to choose their favorite pokemon from the list, and ensure they chose a valid name.\n",
        "  \n",
        "  + In Part 3, we will fetch and display information about the user's favorite pokemon.\n",
        "\n",
        "Further Exploration:\n",
        "\n",
        "  + In Part 4, we will loop through all the pokemon and gather information about each, and save this data to a CSV file for later.\n",
        "\n",
        "  + In Part 5, we will save this data about all Pokemon to Google Sheets (see [example sheet](https://docs.google.com/spreadsheets/d/1WhswYl9OJWJ4V0WaM_GceljIknCx6vUdOo2JDbMYBlQ/edit?usp=sharing))."
      ],
      "metadata": {
        "id": "7aDiRQWx_Gcp"
      }
    },
    {
      "cell_type": "markdown",
      "source": [
        "## Part 1 (List All Pokemon)\n"
      ],
      "metadata": {
        "id": "4MkNR3BHBH8A"
      }
    },
    {
      "cell_type": "markdown",
      "source": [
        "\n",
        "\n",
        "Goal: Display a list of pokemon from the first generation games.\n",
        "\n",
        "a) Fetch a list of first generation pokemon from the API. Use a single request only.\n",
        "\n",
        "> NOTE: first generation pokemon are the first 151 provided by the API\n",
        "\n",
        "> HINT: explore the `limit` and `offset` URL parameters of the pokemon list endpoint (https://pokeapi.co/api/v2/pokemon)\n",
        "\n",
        "\n",
        "b) Store the list of Pokemon in a variable called `first_gen`.\n",
        "\n",
        "c) Display a count of the number of Pokemon in the list (i.e. `151`).\n",
        "\n",
        "d) Loop through the pokemon and print the name of each, formatted as title case (i.e. starting with \"Bulbasaur\" and ending with \"Mew\").\n"
      ],
      "metadata": {
        "id": "PoHJuzIG6JON"
      }
    },
    {
      "cell_type": "code",
      "source": [
        "import requests\n",
        "\n",
        "def get_first_generation_pokemon():\n",
        "    base_url = \"https://pokeapi.co/api/v2/\"\n",
        "    url = f\"{base_url}pokemon?limit=151&offset=0\"\n",
        "    response = requests.get(url)\n",
        "    if response.status_code == 200:\n",
        "        return response.json()\n",
        "    else:\n",
        "        print(\"Error fetching Pokémon data.\")\n",
        "        return None"
      ],
      "metadata": {
        "id": "3WjM8uJs8kJH"
      },
      "execution_count": null,
      "outputs": []
    },
    {
      "cell_type": "code",
      "source": [
        "data = get_first_generation_pokemon()\n",
        "if data:\n",
        "    first_gen = [pokemon['name'] for pokemon in data['results']]"
      ],
      "metadata": {
        "id": "PaNBh0tBQKme"
      },
      "execution_count": null,
      "outputs": []
    },
    {
      "cell_type": "code",
      "source": [
        "if first_gen:\n",
        "    print(f\"Total number of Pokémon in the first generation: {len(first_gen)}\")"
      ],
      "metadata": {
        "id": "Pc1vyEjx8k97",
        "colab": {
          "base_uri": "https://localhost:8080/"
        },
        "outputId": "95373ea2-c043-4e19-b338-1dac8099bb8c"
      },
      "execution_count": null,
      "outputs": [
        {
          "output_type": "stream",
          "name": "stdout",
          "text": [
            "Total number of Pokémon in the first generation: 151\n"
          ]
        }
      ]
    },
    {
      "cell_type": "code",
      "source": [
        "print(data.keys())"
      ],
      "metadata": {
        "id": "Pv9ta0CW8q33",
        "colab": {
          "base_uri": "https://localhost:8080/"
        },
        "outputId": "ca3ed322-1afb-4a29-86fc-d8c39c9ef337"
      },
      "execution_count": null,
      "outputs": [
        {
          "output_type": "stream",
          "name": "stdout",
          "text": [
            "dict_keys(['count', 'next', 'previous', 'results'])\n"
          ]
        }
      ]
    },
    {
      "cell_type": "code",
      "source": [
        "data = get_first_generation_pokemon()"
      ],
      "metadata": {
        "id": "EQLl47C-aY6R"
      },
      "execution_count": null,
      "outputs": []
    },
    {
      "cell_type": "code",
      "source": [
        "\n",
        "if data:\n",
        "    first_gen = data['results']\n",
        "\n",
        "    for pokemon in first_gen:\n",
        "        print(pokemon['name'].title())\n"
      ],
      "metadata": {
        "colab": {
          "base_uri": "https://localhost:8080/"
        },
        "id": "bFwbUkTAahlF",
        "outputId": "afa520c0-7342-475f-9cd8-7d93ef950592"
      },
      "execution_count": null,
      "outputs": [
        {
          "output_type": "stream",
          "name": "stdout",
          "text": [
            "Bulbasaur\n",
            "Ivysaur\n",
            "Venusaur\n",
            "Charmander\n",
            "Charmeleon\n",
            "Charizard\n",
            "Squirtle\n",
            "Wartortle\n",
            "Blastoise\n",
            "Caterpie\n",
            "Metapod\n",
            "Butterfree\n",
            "Weedle\n",
            "Kakuna\n",
            "Beedrill\n",
            "Pidgey\n",
            "Pidgeotto\n",
            "Pidgeot\n",
            "Rattata\n",
            "Raticate\n",
            "Spearow\n",
            "Fearow\n",
            "Ekans\n",
            "Arbok\n",
            "Pikachu\n",
            "Raichu\n",
            "Sandshrew\n",
            "Sandslash\n",
            "Nidoran-F\n",
            "Nidorina\n",
            "Nidoqueen\n",
            "Nidoran-M\n",
            "Nidorino\n",
            "Nidoking\n",
            "Clefairy\n",
            "Clefable\n",
            "Vulpix\n",
            "Ninetales\n",
            "Jigglypuff\n",
            "Wigglytuff\n",
            "Zubat\n",
            "Golbat\n",
            "Oddish\n",
            "Gloom\n",
            "Vileplume\n",
            "Paras\n",
            "Parasect\n",
            "Venonat\n",
            "Venomoth\n",
            "Diglett\n",
            "Dugtrio\n",
            "Meowth\n",
            "Persian\n",
            "Psyduck\n",
            "Golduck\n",
            "Mankey\n",
            "Primeape\n",
            "Growlithe\n",
            "Arcanine\n",
            "Poliwag\n",
            "Poliwhirl\n",
            "Poliwrath\n",
            "Abra\n",
            "Kadabra\n",
            "Alakazam\n",
            "Machop\n",
            "Machoke\n",
            "Machamp\n",
            "Bellsprout\n",
            "Weepinbell\n",
            "Victreebel\n",
            "Tentacool\n",
            "Tentacruel\n",
            "Geodude\n",
            "Graveler\n",
            "Golem\n",
            "Ponyta\n",
            "Rapidash\n",
            "Slowpoke\n",
            "Slowbro\n",
            "Magnemite\n",
            "Magneton\n",
            "Farfetchd\n",
            "Doduo\n",
            "Dodrio\n",
            "Seel\n",
            "Dewgong\n",
            "Grimer\n",
            "Muk\n",
            "Shellder\n",
            "Cloyster\n",
            "Gastly\n",
            "Haunter\n",
            "Gengar\n",
            "Onix\n",
            "Drowzee\n",
            "Hypno\n",
            "Krabby\n",
            "Kingler\n",
            "Voltorb\n",
            "Electrode\n",
            "Exeggcute\n",
            "Exeggutor\n",
            "Cubone\n",
            "Marowak\n",
            "Hitmonlee\n",
            "Hitmonchan\n",
            "Lickitung\n",
            "Koffing\n",
            "Weezing\n",
            "Rhyhorn\n",
            "Rhydon\n",
            "Chansey\n",
            "Tangela\n",
            "Kangaskhan\n",
            "Horsea\n",
            "Seadra\n",
            "Goldeen\n",
            "Seaking\n",
            "Staryu\n",
            "Starmie\n",
            "Mr-Mime\n",
            "Scyther\n",
            "Jynx\n",
            "Electabuzz\n",
            "Magmar\n",
            "Pinsir\n",
            "Tauros\n",
            "Magikarp\n",
            "Gyarados\n",
            "Lapras\n",
            "Ditto\n",
            "Eevee\n",
            "Vaporeon\n",
            "Jolteon\n",
            "Flareon\n",
            "Porygon\n",
            "Omanyte\n",
            "Omastar\n",
            "Kabuto\n",
            "Kabutops\n",
            "Aerodactyl\n",
            "Snorlax\n",
            "Articuno\n",
            "Zapdos\n",
            "Moltres\n",
            "Dratini\n",
            "Dragonair\n",
            "Dragonite\n",
            "Mewtwo\n",
            "Mew\n"
          ]
        }
      ]
    },
    {
      "cell_type": "markdown",
      "source": [
        "## Part 2 (Lookup Pokemon)\n"
      ],
      "metadata": {
        "id": "s3JXwuimCeLy"
      }
    },
    {
      "cell_type": "markdown",
      "source": [
        "Goal: Prompt the user to input their favorite pokemon, and perform validations to ensure they input a valid name.\n",
        "\n",
        "a) Prompt the user to input the name of their favorite Pokemon, based on the list of names displayed in Part 1.\n",
        "\n",
        "b) Store their favorite Pokemon name in a variable called `fav_name`.\n",
        "\n",
        "c) Lookup the favorite pokemon name from the list of Pokemon obtained in Part 1. Perform validations such that if the user types a valid name, the program will display the name and URL of the matching Pokemon (i.e. ` 'snorlax'`, `'https://pokeapi.co/api/v2/pokemon/143/'`). Otherwise if they mistype the Pokemon name, the program should display a message like \"OOPS, invalid name, please try again.\"\n",
        "\n",
        "> CHALLENGE: optionally perform this validation step within a loop that will allow the user to continuously try again until they finally input a valid name.\n"
      ],
      "metadata": {
        "id": "hnlFXp2F64F_"
      }
    },
    {
      "cell_type": "code",
      "source": [
        "\n",
        "while True:\n",
        "\n",
        "    fav_name = input(\"Enter your favorite Pokémon name (e.g., 'Snorlax'): \").lower()\n",
        "\n",
        "\n",
        "    matching_pokemon = next((pokemon for pokemon in first_gen if pokemon['name'] == fav_name), None)\n",
        "\n",
        "    if matching_pokemon:\n",
        "\n",
        "        print(f\"\\nYou chose {fav_name.title()}! The URL is {matching_pokemon['url']}\\n\")\n",
        "        break\n",
        "    else:\n",
        "\n",
        "        print(\"OOPS, invalid name, please try again.\\n\")\n"
      ],
      "metadata": {
        "colab": {
          "base_uri": "https://localhost:8080/"
        },
        "id": "rJTmAaqLbEbp",
        "outputId": "6e66f988-6652-499d-a528-92b9f207f44e"
      },
      "execution_count": null,
      "outputs": [
        {
          "output_type": "stream",
          "name": "stdout",
          "text": [
            "Enter your favorite Pokémon name (e.g., 'Snorlax'): Mew\n",
            "\n",
            "You chose Mew! The URL is https://pokeapi.co/api/v2/pokemon/151/\n",
            "\n"
          ]
        }
      ]
    },
    {
      "cell_type": "markdown",
      "source": [
        "## Part 3 (Get Pokemon Info)"
      ],
      "metadata": {
        "id": "YTH-cSw07K1o"
      }
    },
    {
      "cell_type": "markdown",
      "source": [
        "\n",
        "Goal: Fetch detailed information about the user's favorite Pokemon inputted in Part 2.\n",
        "\n",
        "> HINT: see https://pokeapi.co/docs/v2#pokemon-section\n",
        "\n",
        "Using data from the Poke API, address the following challenges:\n",
        "\n",
        "a) Display the following information about the selected Pokemon:\n",
        "\n",
        "   + Name (i.e. `\"Snorlax\"`)\n",
        "   + Height (i.e. `21`), presumably this is in feet\n",
        "   + Weight (i.e. `4600`), presumably this is in lbs\n",
        "   + Base Experience (i.e. `189`)\n",
        "\n",
        "\n",
        "b) Display a thumbnail image of the Pokemon, for example using its \"front default sprite\".\n",
        "\n",
        "c) Play an audio of the Pokemon's cry, using its \"latest cry\".\n",
        "\n",
        "\n",
        "d) Display additional information about the selected Pokemon:\n",
        "   + Types, formatted as a simple list of strings (i.e. `['Normal']`)\n",
        "   + Abilities, formatted as a simple list of strings (i.e. `['Immunity', 'Thick-Fat', 'Gluttony']`)\n",
        "   + Items, formatted as a simple list of strings (i.e. `['Chesto-Berry', 'Leftovers']`)\n",
        "\n",
        "\n",
        "e) Display the Pokemon's stats, including:\n",
        "\n",
        "  +  HP (i.e. `160`)\n",
        "  + Attack (i.e. `110`)\n",
        "  + Defense (i.e. `65`)\n",
        "  + Special Attack (i.e. `65`)\n",
        "  + Special Defense (i.e. `110`)\n",
        "  + Speed (i.e. `30`).\n",
        "\n"
      ],
      "metadata": {
        "id": "tiHl4BFSBDbK"
      }
    },
    {
      "cell_type": "code",
      "source": [],
      "metadata": {
        "id": "6jjDfJtKbxqg"
      },
      "execution_count": null,
      "outputs": []
    },
    {
      "cell_type": "code",
      "source": [
        "\n",
        "\n",
        "from IPython.display import Image, display, Audio\n",
        "\n",
        "\n",
        "base_url = \"https://pokeapi.co/api/v2/\"\n",
        "\n",
        "\n",
        "def get_pokemon_details(pokemon_name):\n",
        "    url = f\"{base_url}pokemon/{pokemon_name.lower()}\"\n",
        "    response = requests.get(url)\n",
        "\n",
        "    if response.status_code == 200:\n",
        "        return response.json()\n",
        "    else:\n",
        "        print(f\"Error: Pokemon {pokemon_name} not found.\")\n",
        "        return None\n",
        "\n",
        "\n",
        "def display_pokemon_details(pokemon_name):\n",
        "    data = get_pokemon_details(pokemon_name)\n",
        "\n",
        "    if data:\n",
        "\n",
        "        print(f\"\\n=== {pokemon_name.title()} ===\")\n",
        "        print(f\"Name: {data['name'].title()}\")\n",
        "        print(f\"Height: {data['height'] / 10} meters\")\n",
        "        print(f\"Weight: {data['weight'] / 10} kg\")\n",
        "        print(f\"Base Experience: {data['base_experience']}\")\n",
        "\n",
        "\n",
        "        sprite_url = data['sprites']['front_default']\n",
        "        print(f\"\\nDisplaying {pokemon_name.title()}'s sprite:\")\n",
        "        display(Image(url=sprite_url))\n",
        "\n",
        "        #\n",
        "        cry_url = f\"https://raw.githubusercontent.com/PokeAPI/cries/main/cries/pokemon/latest/{data['id']}.ogg\"\n",
        "        print(\"\\nPlaying the Pokemon's cry:\")\n",
        "        display(Audio(url=cry_url))\n",
        "\n",
        "\n",
        "        types = [poke_type['type']['name'].title() for poke_type in data['types']]\n",
        "        print(f\"\\nTypes: {types}\")\n",
        "\n",
        "\n",
        "        abilities = [ability['ability']['name'].replace(\"-\", \" \").title() for ability in data['abilities']]\n",
        "        print(f\"Abilities: {abilities}\")\n",
        "\n",
        "\n",
        "        items = [item['item']['name'].replace(\"-\", \" \").title() for item in data['held_items']]\n",
        "        print(f\"Items: {items if items else 'No held items'}\")\n",
        "\n",
        "\n",
        "        print(\"\\nStats:\")\n",
        "        stats = {stat['stat']['name']: stat['base_stat'] for stat in data['stats']}\n",
        "        print(f\"HP: {stats['hp']}\")\n",
        "        print(f\"Attack: {stats['attack']}\")\n",
        "        print(f\"Defense: {stats['defense']}\")\n",
        "        print(f\"Special Attack: {stats['special-attack']}\")\n",
        "        print(f\"Special Defense: {stats['special-defense']}\")\n",
        "        print(f\"Speed: {stats['speed']}\")\n",
        "    else:\n",
        "        print(\"No data found for the selected Pokémon.\")\n",
        "\n",
        "display_pokemon_details(fav_name)\n"
      ],
      "metadata": {
        "id": "VvItWrG67M6M",
        "colab": {
          "base_uri": "https://localhost:8080/",
          "height": 558
        },
        "outputId": "d98a6eca-57f3-4927-9b09-803009b01ab1"
      },
      "execution_count": null,
      "outputs": [
        {
          "output_type": "stream",
          "name": "stdout",
          "text": [
            "\n",
            "=== Mew ===\n",
            "Name: Mew\n",
            "Height: 0.4 meters\n",
            "Weight: 4.0 kg\n",
            "Base Experience: 300\n",
            "\n",
            "Displaying Mew's sprite:\n"
          ]
        },
        {
          "output_type": "display_data",
          "data": {
            "text/html": [
              "<img src=\"https://raw.githubusercontent.com/PokeAPI/sprites/master/sprites/pokemon/151.png\"/>"
            ],
            "text/plain": [
              "<IPython.core.display.Image object>"
            ]
          },
          "metadata": {}
        },
        {
          "output_type": "stream",
          "name": "stdout",
          "text": [
            "\n",
            "Playing the Pokemon's cry:\n"
          ]
        },
        {
          "output_type": "display_data",
          "data": {
            "text/plain": [
              "<IPython.lib.display.Audio object>"
            ],
            "text/html": [
              "\n",
              "                <audio  controls=\"controls\" >\n",
              "                    <source src=\"https://raw.githubusercontent.com/PokeAPI/cries/main/cries/pokemon/latest/151.ogg\" type=\"audio/ogg\" />\n",
              "                    Your browser does not support the audio element.\n",
              "                </audio>\n",
              "              "
            ]
          },
          "metadata": {}
        },
        {
          "output_type": "stream",
          "name": "stdout",
          "text": [
            "\n",
            "Types: ['Psychic']\n",
            "Abilities: ['Synchronize']\n",
            "Items: ['Lum Berry']\n",
            "\n",
            "Stats:\n",
            "HP: 100\n",
            "Attack: 100\n",
            "Defense: 100\n",
            "Special Attack: 100\n",
            "Special Defense: 100\n",
            "Speed: 100\n"
          ]
        }
      ]
    },
    {
      "cell_type": "markdown",
      "source": [
        "## Part 4 (Pokemon Database)"
      ],
      "metadata": {
        "id": "dvC5uLQA6arj"
      }
    },
    {
      "cell_type": "markdown",
      "source": [
        "Motivation: Everytime we fetch data about a pokemon, we are making a network request, which takes time. How about if we go through a one time process where we collect data for all the pokemon and store it somewhere for easier reference?\n",
        "\n",
        "Goal: loop through all the first generation pokemon and collect data about each, and store all the data in a single CSV file.\n",
        "\n",
        "a) Loop through each Pokemon in the `first_gen` list, and print the name and URL for each.\n",
        "\n",
        "b) Within the loop, make a request for data about each pokemon, using the provided URL.\n",
        "\n",
        "c) Within the loop, create a simple dictionary of information for each Pokemon (to simplify the super nested structure and only keep the data we care about). Also \"collect\" this simplified dictionary for later, into a list called `db`.\n",
        "\n",
        "\n",
        "d) When your loop finishes, print the number of items in the `db` list, as well as the first item.\n",
        "\n",
        "...\n",
        "\n",
        "e) Pass the list of dictionaries (`db`) to the pandas `DataFrame` class constructor, to initialize a new instance of the dataframe datatype, using the Pokemon data we collected.\n",
        "\n",
        "f) Display the number of rows in the dataframe, as well as the first few records.\n",
        "\n",
        "g) Save the dataframe to a CSV file called \"first_gen_pokemon.csv\"."
      ],
      "metadata": {
        "id": "vkOx63KQI3fJ"
      }
    },
    {
      "cell_type": "code",
      "source": [
        "import requests\n",
        "import pandas as pd\n",
        "\n",
        "base_url = \"https://pokeapi.co/api/v2/\"\n",
        "\n",
        "# Function to get the first generation Pokémon\n",
        "def get_first_generation_pokemon():\n",
        "    response = requests.get(f\"{base_url}generation/1/\")\n",
        "    if response.status_code == 200:\n",
        "        generation_data = response.json()\n",
        "        # Return the list of Pokemon species with their names and URLs\n",
        "        return generation_data['pokemon_species']\n",
        "    else:\n",
        "        print(f\"Error fetching first generation Pokémon\")\n",
        "        return None\n",
        "\n",
        "def get_pokemon_details(pokemon_id):\n",
        "    # Now we use the correct endpoint for the Pokémon details\n",
        "    response = requests.get(f\"{base_url}pokemon/{pokemon_id}/\")\n",
        "    if response.status_code == 200:\n",
        "        return response.json()\n",
        "    else:\n",
        "        print(f\"Error fetching data for Pokémon ID: {pokemon_id}\")\n",
        "        return None\n",
        "\n",
        "# b) Loop through all the first generation Pokemon\n",
        "first_gen = get_first_generation_pokemon()\n",
        "data = []  # List to collect data\n",
        "\n",
        "if first_gen:\n",
        "    for pokemon in first_gen:\n",
        "        pokemon_name = pokemon['name']\n",
        "        pokemon_url = pokemon['url']\n",
        "        # Extract the Pokemon ID from the URL (last part of the URL)\n",
        "        pokemon_id = pokemon_url.rstrip('/').split('/')[-1]\n",
        "        print(f\"Fetching data for {pokemon_name} (ID: {pokemon_id})\")\n",
        "\n",
        "        # b) Make a request for data about each Pokemon using the provided ID\n",
        "        pokemon_data = get_pokemon_details(pokemon_id)\n",
        "\n",
        "        if pokemon_data:\n",
        "            # c) Create a simplified dictionary of information for each Pokemon\n",
        "            simplified_pokemon = {\n",
        "                'name': pokemon_data['name'].title(),\n",
        "                'height_m': pokemon_data['height'] / 10,  # height in meters\n",
        "                'weight_kg': pokemon_data['weight'] / 10,  # weight in kg\n",
        "                'base_experience': pokemon_data['base_experience'],\n",
        "                'types': ', '.join([ptype['type']['name'].title() for ptype in pokemon_data['types']]),\n",
        "                'abilities': ', '.join([ability['ability']['name'].replace(\"-\", \" \").title() for ability in pokemon_data['abilities']]),\n",
        "                'stats_hp': next(stat['base_stat'] for stat in pokemon_data['stats'] if stat['stat']['name'] == 'hp'),\n",
        "                'stats_attack': next(stat['base_stat'] for stat in pokemon_data['stats'] if stat['stat']['name'] == 'attack'),\n",
        "                'stats_defense': next(stat['base_stat'] for stat in pokemon_data['stats'] if stat['stat']['name'] == 'defense'),\n",
        "                'stats_special_attack': next(stat['base_stat'] for stat in pokemon_data['stats'] if stat['stat']['name'] == 'special-attack'),\n",
        "                'stats_special_defense': next(stat['base_stat'] for stat in pokemon_data['stats'] if stat['stat']['name'] == 'special-defense'),\n",
        "                'stats_speed': next(stat['base_stat'] for stat in pokemon_data['stats'] if stat['stat']['name'] == 'speed'),\n",
        "                'sprite_url': pokemon_data['sprites']['front_default']\n",
        "            }\n",
        "\n",
        "            # Collect this simplified dictionary into the data list\n",
        "            data.append(simplified_pokemon)\n",
        "\n",
        "# d) When the loop finishes, print the number of items in the data list and the first item\n",
        "print(f\"\\nNumber of Pokémon collected: {len(data)}\")\n",
        "if data:\n",
        "    print(f\"First Pokémon data: {data[0]}\\n\")\n",
        "\n",
        "# e) Pass the list of dictionaries (data) to the pandas DataFrame class\n",
        "df = pd.DataFrame(data)\n",
        "\n",
        "# f) Display the number of rows in the dataframe, as well as the first few records\n",
        "print(f\"Number of rows in the dataframe: {len(df)}\")\n",
        "print(df.head())\n",
        "\n",
        "# g) Save the dataframe to a CSV file called \"first_gen_pokemon.csv\"\n",
        "df.to_csv('first_gen_pokemon.csv', index=False)\n",
        "print(\"\\nData has been saved to 'first_gen_pokemon.csv'\")\n"
      ],
      "metadata": {
        "id": "9nrc6iTKDVEm",
        "colab": {
          "base_uri": "https://localhost:8080/"
        },
        "outputId": "28f53b8a-7cf7-40d8-c02c-433966ccfaa5"
      },
      "execution_count": null,
      "outputs": [
        {
          "output_type": "stream",
          "name": "stdout",
          "text": [
            "Fetching data for bulbasaur (ID: 1)\n",
            "Fetching data for charmander (ID: 4)\n",
            "Fetching data for squirtle (ID: 7)\n",
            "Fetching data for caterpie (ID: 10)\n",
            "Fetching data for weedle (ID: 13)\n",
            "Fetching data for pidgey (ID: 16)\n",
            "Fetching data for rattata (ID: 19)\n",
            "Fetching data for spearow (ID: 21)\n",
            "Fetching data for ekans (ID: 23)\n",
            "Fetching data for sandshrew (ID: 27)\n",
            "Fetching data for nidoran-f (ID: 29)\n",
            "Fetching data for nidoran-m (ID: 32)\n",
            "Fetching data for vulpix (ID: 37)\n",
            "Fetching data for zubat (ID: 41)\n",
            "Fetching data for oddish (ID: 43)\n",
            "Fetching data for paras (ID: 46)\n",
            "Fetching data for venonat (ID: 48)\n",
            "Fetching data for diglett (ID: 50)\n",
            "Fetching data for meowth (ID: 52)\n",
            "Fetching data for psyduck (ID: 54)\n",
            "Fetching data for mankey (ID: 56)\n",
            "Fetching data for growlithe (ID: 58)\n",
            "Fetching data for poliwag (ID: 60)\n",
            "Fetching data for abra (ID: 63)\n",
            "Fetching data for machop (ID: 66)\n",
            "Fetching data for bellsprout (ID: 69)\n",
            "Fetching data for tentacool (ID: 72)\n",
            "Fetching data for geodude (ID: 74)\n",
            "Fetching data for ponyta (ID: 77)\n",
            "Fetching data for slowpoke (ID: 79)\n",
            "Fetching data for magnemite (ID: 81)\n",
            "Fetching data for farfetchd (ID: 83)\n",
            "Fetching data for doduo (ID: 84)\n",
            "Fetching data for seel (ID: 86)\n",
            "Fetching data for grimer (ID: 88)\n",
            "Fetching data for shellder (ID: 90)\n",
            "Fetching data for gastly (ID: 92)\n",
            "Fetching data for onix (ID: 95)\n",
            "Fetching data for drowzee (ID: 96)\n",
            "Fetching data for krabby (ID: 98)\n",
            "Fetching data for voltorb (ID: 100)\n",
            "Fetching data for exeggcute (ID: 102)\n",
            "Fetching data for cubone (ID: 104)\n",
            "Fetching data for lickitung (ID: 108)\n",
            "Fetching data for koffing (ID: 109)\n",
            "Fetching data for rhyhorn (ID: 111)\n",
            "Fetching data for tangela (ID: 114)\n",
            "Fetching data for kangaskhan (ID: 115)\n",
            "Fetching data for horsea (ID: 116)\n",
            "Fetching data for goldeen (ID: 118)\n",
            "Fetching data for staryu (ID: 120)\n",
            "Fetching data for scyther (ID: 123)\n",
            "Fetching data for pinsir (ID: 127)\n",
            "Fetching data for tauros (ID: 128)\n",
            "Fetching data for magikarp (ID: 129)\n",
            "Fetching data for lapras (ID: 131)\n",
            "Fetching data for ditto (ID: 132)\n",
            "Fetching data for eevee (ID: 133)\n",
            "Fetching data for porygon (ID: 137)\n",
            "Fetching data for omanyte (ID: 138)\n",
            "Fetching data for kabuto (ID: 140)\n",
            "Fetching data for aerodactyl (ID: 142)\n",
            "Fetching data for articuno (ID: 144)\n",
            "Fetching data for zapdos (ID: 145)\n",
            "Fetching data for moltres (ID: 146)\n",
            "Fetching data for dratini (ID: 147)\n",
            "Fetching data for mewtwo (ID: 150)\n",
            "Fetching data for jynx (ID: 124)\n",
            "Fetching data for electabuzz (ID: 125)\n",
            "Fetching data for magmar (ID: 126)\n",
            "Fetching data for gyarados (ID: 130)\n",
            "Fetching data for vaporeon (ID: 134)\n",
            "Fetching data for jolteon (ID: 135)\n",
            "Fetching data for flareon (ID: 136)\n",
            "Fetching data for omastar (ID: 139)\n",
            "Fetching data for kabutops (ID: 141)\n",
            "Fetching data for snorlax (ID: 143)\n",
            "Fetching data for dragonair (ID: 148)\n",
            "Fetching data for dragonite (ID: 149)\n",
            "Fetching data for mew (ID: 151)\n",
            "Fetching data for ivysaur (ID: 2)\n",
            "Fetching data for venusaur (ID: 3)\n",
            "Fetching data for charmeleon (ID: 5)\n",
            "Fetching data for charizard (ID: 6)\n",
            "Fetching data for wartortle (ID: 8)\n",
            "Fetching data for blastoise (ID: 9)\n",
            "Fetching data for metapod (ID: 11)\n",
            "Fetching data for butterfree (ID: 12)\n",
            "Fetching data for kakuna (ID: 14)\n",
            "Fetching data for beedrill (ID: 15)\n",
            "Fetching data for pidgeotto (ID: 17)\n",
            "Fetching data for pidgeot (ID: 18)\n",
            "Fetching data for raticate (ID: 20)\n",
            "Fetching data for fearow (ID: 22)\n",
            "Fetching data for arbok (ID: 24)\n",
            "Fetching data for pikachu (ID: 25)\n",
            "Fetching data for raichu (ID: 26)\n",
            "Fetching data for sandslash (ID: 28)\n",
            "Fetching data for nidorina (ID: 30)\n",
            "Fetching data for nidoqueen (ID: 31)\n",
            "Fetching data for nidorino (ID: 33)\n",
            "Fetching data for nidoking (ID: 34)\n",
            "Fetching data for clefairy (ID: 35)\n",
            "Fetching data for clefable (ID: 36)\n",
            "Fetching data for ninetales (ID: 38)\n",
            "Fetching data for jigglypuff (ID: 39)\n",
            "Fetching data for wigglytuff (ID: 40)\n",
            "Fetching data for golbat (ID: 42)\n",
            "Fetching data for gloom (ID: 44)\n",
            "Fetching data for vileplume (ID: 45)\n",
            "Fetching data for parasect (ID: 47)\n",
            "Fetching data for venomoth (ID: 49)\n",
            "Fetching data for dugtrio (ID: 51)\n",
            "Fetching data for persian (ID: 53)\n",
            "Fetching data for golduck (ID: 55)\n",
            "Fetching data for primeape (ID: 57)\n",
            "Fetching data for arcanine (ID: 59)\n",
            "Fetching data for poliwhirl (ID: 61)\n",
            "Fetching data for poliwrath (ID: 62)\n",
            "Fetching data for kadabra (ID: 64)\n",
            "Fetching data for alakazam (ID: 65)\n",
            "Fetching data for machoke (ID: 67)\n",
            "Fetching data for machamp (ID: 68)\n",
            "Fetching data for weepinbell (ID: 70)\n",
            "Fetching data for victreebel (ID: 71)\n",
            "Fetching data for tentacruel (ID: 73)\n",
            "Fetching data for graveler (ID: 75)\n",
            "Fetching data for golem (ID: 76)\n",
            "Fetching data for rapidash (ID: 78)\n",
            "Fetching data for slowbro (ID: 80)\n",
            "Fetching data for magneton (ID: 82)\n",
            "Fetching data for dodrio (ID: 85)\n",
            "Fetching data for dewgong (ID: 87)\n",
            "Fetching data for muk (ID: 89)\n",
            "Fetching data for cloyster (ID: 91)\n",
            "Fetching data for haunter (ID: 93)\n",
            "Fetching data for gengar (ID: 94)\n",
            "Fetching data for hypno (ID: 97)\n",
            "Fetching data for kingler (ID: 99)\n",
            "Fetching data for electrode (ID: 101)\n",
            "Fetching data for exeggutor (ID: 103)\n",
            "Fetching data for marowak (ID: 105)\n",
            "Fetching data for hitmonlee (ID: 106)\n",
            "Fetching data for hitmonchan (ID: 107)\n",
            "Fetching data for weezing (ID: 110)\n",
            "Fetching data for rhydon (ID: 112)\n",
            "Fetching data for chansey (ID: 113)\n",
            "Fetching data for seadra (ID: 117)\n",
            "Fetching data for seaking (ID: 119)\n",
            "Fetching data for starmie (ID: 121)\n",
            "Fetching data for mr-mime (ID: 122)\n",
            "\n",
            "Number of Pokémon collected: 151\n",
            "First Pokémon data: {'name': 'Bulbasaur', 'height_m': 0.7, 'weight_kg': 6.9, 'base_experience': 64, 'types': 'Grass, Poison', 'abilities': 'Overgrow, Chlorophyll', 'stats_hp': 45, 'stats_attack': 49, 'stats_defense': 49, 'stats_special_attack': 65, 'stats_special_defense': 65, 'stats_speed': 45, 'sprite_url': 'https://raw.githubusercontent.com/PokeAPI/sprites/master/sprites/pokemon/1.png'}\n",
            "\n",
            "Number of rows in the dataframe: 151\n",
            "         name  height_m  weight_kg  base_experience          types  \\\n",
            "0   Bulbasaur       0.7        6.9               64  Grass, Poison   \n",
            "1  Charmander       0.6        8.5               62           Fire   \n",
            "2    Squirtle       0.5        9.0               63          Water   \n",
            "3    Caterpie       0.3        2.9               39            Bug   \n",
            "4      Weedle       0.3        3.2               39    Bug, Poison   \n",
            "\n",
            "               abilities  stats_hp  stats_attack  stats_defense  \\\n",
            "0  Overgrow, Chlorophyll        45            49             49   \n",
            "1     Blaze, Solar Power        39            52             43   \n",
            "2     Torrent, Rain Dish        44            48             65   \n",
            "3  Shield Dust, Run Away        45            30             35   \n",
            "4  Shield Dust, Run Away        40            35             30   \n",
            "\n",
            "   stats_special_attack  stats_special_defense  stats_speed  \\\n",
            "0                    65                     65           45   \n",
            "1                    60                     50           65   \n",
            "2                    50                     64           43   \n",
            "3                    20                     20           45   \n",
            "4                    20                     20           50   \n",
            "\n",
            "                                          sprite_url  \n",
            "0  https://raw.githubusercontent.com/PokeAPI/spri...  \n",
            "1  https://raw.githubusercontent.com/PokeAPI/spri...  \n",
            "2  https://raw.githubusercontent.com/PokeAPI/spri...  \n",
            "3  https://raw.githubusercontent.com/PokeAPI/spri...  \n",
            "4  https://raw.githubusercontent.com/PokeAPI/spri...  \n",
            "\n",
            "Data has been saved to 'first_gen_pokemon.csv'\n"
          ]
        }
      ]
    },
    {
      "cell_type": "markdown",
      "source": [
        "Code for parts E, F, and G:"
      ],
      "metadata": {
        "id": "n-OWW2X43H29"
      }
    },
    {
      "cell_type": "code",
      "source": [
        "# from pandas import DataFrame\n",
        "#\n",
        "# df = DataFrame(db)\n",
        "# print(len(df))\n",
        "# df.head()"
      ],
      "metadata": {
        "id": "tta635-Q2vmV"
      },
      "execution_count": null,
      "outputs": []
    },
    {
      "cell_type": "code",
      "source": [
        "# df.to_csv(\"first_gen_pokemon.csv\", index=False)"
      ],
      "metadata": {
        "id": "sKHpoBOQ2vYC"
      },
      "execution_count": null,
      "outputs": []
    },
    {
      "cell_type": "markdown",
      "source": [
        "## Part 5 (Google Sheets Database)"
      ],
      "metadata": {
        "id": "bkdnzBnwDaMF"
      }
    },
    {
      "cell_type": "markdown",
      "source": [
        "Stretch Goal: In addition to storing the Pokemon database to CSV file, also write the data to Google Sheets (like this [example](https://docs.google.com/spreadsheets/d/1WhswYl9OJWJ4V0WaM_GceljIknCx6vUdOo2JDbMYBlQ/edit#gid=788962999)).\n",
        "\n",
        "Setup: Create a new google sheet document, and note it's identifier (i.e. `GOOGLE_SHEETS_DOCUMENT_ID`). Create a new sheet within this document called \"gen-1\".\n",
        "\n",
        "References:\n",
        "\n",
        "  + https://github.com/prof-rossetti/intro-to-python/blob/main/notes/python/packages/gspread.md\n",
        "\n",
        "a) Use some boilerplate Google Colab authentication code to login with your Google Account.\n",
        "\n",
        "b) Set the `GOOGLE_SHEETS_DOCUMENT_ID` to reference the identifier to the document you set up.\n",
        "\n",
        "c) Install the `gspread` package via pip, as necessary, and use it to access the document provided by the `GOOGLE_SHEETS_DOCUMENT_ID`. Verify by printing a list of the sheet names that currently exist in this document.\n",
        "\n",
        "d) Finally, write the dataframe data to the \"gen-1\" sheet.\n",
        "\n",
        "\n",
        "> NOTE: when trying to write data to the sheet, if any columns have list values (for types, held items, abilities, etc.), that will trigger an error. To work around this error, we can use an approach like this to convert each column of lists to a column of comma separated strings instead:\n",
        ">\n",
        ">  `df[\"types\"] = df[\"types\"].str.join(\", \")`.\n",
        ">\n",
        "> These new columns of comma separated strings can be written to the sheet without error."
      ],
      "metadata": {
        "id": "tc0ES2YNFiZN"
      }
    },
    {
      "cell_type": "code",
      "source": [
        "# df[\"types\"] = df[\"types\"].str.join(\", \")\n",
        "# df[\"held_items\"] = df[\"held_items\"].str.join(\", \")\n",
        "# df[\"abilities\"] = df[\"abilities\"].str.join(\", \")\n",
        "# df.head()"
      ],
      "metadata": {
        "id": "kyplVk9tGvLc"
      },
      "execution_count": null,
      "outputs": []
    },
    {
      "cell_type": "code",
      "source": [
        "# %%capture\n",
        "# !pip install gspread"
      ],
      "metadata": {
        "id": "e9fcKGww3ipB"
      },
      "execution_count": null,
      "outputs": []
    },
    {
      "cell_type": "code",
      "source": [
        "import gspread\n",
        "from google.auth import default\n",
        "\n",
        "# Step 1: Load the Pokémon data\n",
        "df = pd.read_csv('/content/first_gen_pokemon.csv')\n",
        "\n",
        "# Step 2: Ensure the types and abilities columns are cleaned\n",
        "df['types'] = df['types'].str.replace(' ', '').str.replace(',', ', ').str.strip()\n",
        "df['abilities'] = df['abilities'].str.replace(' ', '').str.replace(',', ', ').str.strip()\n",
        "\n",
        "# Check the cleaned DataFrame\n",
        "print(df.head())\n",
        "\n",
        "# Step 3: Google Sheets Authentication\n",
        "creds, _ = default()\n",
        "gc = gspread.authorize(creds)\n",
        "\n",
        "# Step 4: Set the GOOGLE_SHEETS_DOCUMENT_ID\n",
        "GOOGLE_SHEETS_DOCUMENT_ID = '172C_DH8xoi1rpftTEW8Ihge16ruSgBYdNRhMj3Ktht8'\n",
        "\n",
        "# Step 5: Open the Google Sheets document\n",
        "spreadsheet = gc.open_by_key(GOOGLE_SHEETS_DOCUMENT_ID)\n",
        "\n",
        "# Step 6: Access the \"gen-1\" sheet\n",
        "gen1_sheet = spreadsheet.worksheet('gen-1')\n",
        "\n",
        "# Step 7: Clear any existing data in the sheet\n",
        "gen1_sheet.clear()\n",
        "\n",
        "# Step 8: Prepare data for writing\n",
        "data = [df.columns.values.tolist()] + df.values.tolist()\n",
        "\n",
        "# Step 9: Write the cleaned DataFrame data to the \"gen-1\" sheet\n",
        "gen1_sheet.update('A1', data)\n"
      ],
      "metadata": {
        "id": "OFv7b-EN1DRG",
        "colab": {
          "base_uri": "https://localhost:8080/"
        },
        "outputId": "cad1664a-d19c-445f-93d2-c1d95102f7f0"
      },
      "execution_count": null,
      "outputs": [
        {
          "output_type": "stream",
          "name": "stdout",
          "text": [
            "         name  height_m  weight_kg  base_experience          types  \\\n",
            "0   Bulbasaur       0.7        6.9               64  Grass, Poison   \n",
            "1  Charmander       0.6        8.5               62           Fire   \n",
            "2    Squirtle       0.5        9.0               63          Water   \n",
            "3    Caterpie       0.3        2.9               39            Bug   \n",
            "4      Weedle       0.3        3.2               39    Bug, Poison   \n",
            "\n",
            "               abilities  stats_hp  stats_attack  stats_defense  \\\n",
            "0  Overgrow, Chlorophyll        45            49             49   \n",
            "1      Blaze, SolarPower        39            52             43   \n",
            "2      Torrent, RainDish        44            48             65   \n",
            "3    ShieldDust, RunAway        45            30             35   \n",
            "4    ShieldDust, RunAway        40            35             30   \n",
            "\n",
            "   stats_special_attack  stats_special_defense  stats_speed  \\\n",
            "0                    65                     65           45   \n",
            "1                    60                     50           65   \n",
            "2                    50                     64           43   \n",
            "3                    20                     20           45   \n",
            "4                    20                     20           50   \n",
            "\n",
            "                                          sprite_url  \n",
            "0  https://raw.githubusercontent.com/PokeAPI/spri...  \n",
            "1  https://raw.githubusercontent.com/PokeAPI/spri...  \n",
            "2  https://raw.githubusercontent.com/PokeAPI/spri...  \n",
            "3  https://raw.githubusercontent.com/PokeAPI/spri...  \n",
            "4  https://raw.githubusercontent.com/PokeAPI/spri...  \n"
          ]
        },
        {
          "output_type": "stream",
          "name": "stderr",
          "text": [
            "<ipython-input-16-e8b77ced5eff>:34: DeprecationWarning: The order of arguments in worksheet.update() has changed. Please pass values first and range_name secondor used named arguments (range_name=, values=)\n",
            "  gen1_sheet.update('A1', data)\n"
          ]
        },
        {
          "output_type": "execute_result",
          "data": {
            "text/plain": [
              "{'spreadsheetId': '172C_DH8xoi1rpftTEW8Ihge16ruSgBYdNRhMj3Ktht8',\n",
              " 'updatedRange': \"'gen-1'!A1:M152\",\n",
              " 'updatedRows': 152,\n",
              " 'updatedColumns': 13,\n",
              " 'updatedCells': 1976}"
            ]
          },
          "metadata": {},
          "execution_count": 16
        }
      ]
    },
    {
      "cell_type": "code",
      "source": [],
      "metadata": {
        "id": "EtBCpU_wo7Ae"
      },
      "execution_count": null,
      "outputs": []
    }
  ]
}